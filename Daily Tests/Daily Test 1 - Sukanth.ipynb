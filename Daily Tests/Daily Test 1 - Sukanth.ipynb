{
 "cells": [
  {
   "cell_type": "markdown",
   "metadata": {},
   "source": [
    "# List"
   ]
  },
  {
   "cell_type": "markdown",
   "metadata": {},
   "source": [
    "Python | Test if any list element returns true for condition\n"
   ]
  },
  {
   "cell_type": "markdown",
   "metadata": {},
   "source": [
    "1- Write a Python function called any_element_satisfies that takes two arguments: a list lst and a condition function condition_func. The function should return True if at least one element in the list satisfies the condition given by condition_func. Otherwise, it should return False.\n",
    "\n",
    "Your task is to implement the any_element_satisfies function and provide test cases to verify its correctness."
   ]
  },
  {
   "cell_type": "code",
   "execution_count": 10,
   "metadata": {},
   "outputs": [
    {
     "name": "stdout",
     "output_type": "stream",
     "text": [
      "True\n"
     ]
    }
   ],
   "source": [
    "def condition_func(element):\n",
    "    if element > 0:\n",
    "        return True\n",
    "    else:\n",
    "        return False\n",
    "\n",
    "def any_element_satisfies(lst, condition_func):\n",
    "    for element in lst:\n",
    "        if condition_func(element):\n",
    "            return True\n",
    "    return False\n",
    "\n",
    "myList = [-1, 2, -3, -4]\n",
    "print(any_element_satisfies(myList, condition_func))\n"
   ]
  },
  {
   "cell_type": "markdown",
   "metadata": {},
   "source": [
    "2- Python program to interchange first and last elements in a list\n"
   ]
  },
  {
   "cell_type": "code",
   "execution_count": 12,
   "metadata": {},
   "outputs": [
    {
     "name": "stdout",
     "output_type": "stream",
     "text": [
      "Original List: [1, 2, 3, 4, 5]\n",
      "After Interchange: [5, 2, 3, 4, 1]\n"
     ]
    }
   ],
   "source": [
    "def interchange(lst):\n",
    "    lst[0], lst[-1] = lst[-1], lst[0]\n",
    "    print(\"After Interchange:\", lst)\n",
    "\n",
    "lst = [1, 2, 3, 4, 5]\n",
    "print(\"Original List:\", lst)\n",
    "interchange(lst)"
   ]
  },
  {
   "cell_type": "markdown",
   "metadata": {},
   "source": [
    "# String"
   ]
  },
  {
   "cell_type": "markdown",
   "metadata": {},
   "source": [
    "1- Python program to check whether the string is Symmetrical or Palindrome"
   ]
  },
  {
   "cell_type": "code",
   "execution_count": 16,
   "metadata": {},
   "outputs": [
    {
     "name": "stdout",
     "output_type": "stream",
     "text": [
      "malayalam\n",
      "It is Palindrome\n"
     ]
    }
   ],
   "source": [
    "def palindrome(s):\n",
    "    rev = s[::-1]\n",
    "    if s == rev:\n",
    "        print(\"It is Palindrome\")\n",
    "    else:\n",
    "        print(\"It is not Palindrome\")\n",
    "\n",
    "s = input(\"Enter a string: \")\n",
    "print(s)\n",
    "palindrome(s)"
   ]
  },
  {
   "cell_type": "markdown",
   "metadata": {},
   "source": [
    "2-Remove Characters From a String in Python,\n",
    "Using str.replace()\n",
    "Using translate()\n",
    "Using recursion"
   ]
  },
  {
   "cell_type": "code",
   "execution_count": 17,
   "metadata": {},
   "outputs": [
    {
     "name": "stdout",
     "output_type": "stream",
     "text": [
      "HelloWorld\n"
     ]
    }
   ],
   "source": [
    "def remove_chars_replace(s, chars):\n",
    "    for char in chars:\n",
    "        s = s.replace(char, '')\n",
    "    return s\n",
    "\n",
    "string = \"Hello, World!\"\n",
    "chars_to_remove = \", !\"\n",
    "result = remove_chars_replace(string, chars_to_remove)\n",
    "print(result)\n"
   ]
  },
  {
   "cell_type": "markdown",
   "metadata": {},
   "source": [
    "# Pattern"
   ]
  },
  {
   "cell_type": "markdown",
   "metadata": {},
   "source": [
    "1- Program to print half Diamond star pattern"
   ]
  },
  {
   "cell_type": "code",
   "execution_count": 18,
   "metadata": {},
   "outputs": [
    {
     "name": "stdout",
     "output_type": "stream",
     "text": [
      "*\n",
      "**\n",
      "***\n",
      "****\n",
      "*****\n",
      "****\n",
      "***\n",
      "**\n",
      "*\n"
     ]
    }
   ],
   "source": [
    "'''\n",
    "*\n",
    "**\n",
    "***\n",
    "****\n",
    "*****\n",
    "****\n",
    "***\n",
    "**\n",
    "*\n",
    "'''\n",
    "\n",
    "rows = int(input())\n",
    "\n",
    "for i in range(rows):\n",
    "    for j in range(i + 1):\n",
    "        print(\"*\", end=\"\")\n",
    "    print()\n",
    "\n",
    "for i in range(rows - 1, 0, -1):\n",
    "    for j in range(i):\n",
    "        print(\"*\", end=\"\")\n",
    "    print()\n",
    "\n"
   ]
  },
  {
   "cell_type": "markdown",
   "metadata": {},
   "source": [
    "2- Program to print the diamond shape"
   ]
  },
  {
   "cell_type": "code",
   "execution_count": 20,
   "metadata": {},
   "outputs": [
    {
     "name": "stdout",
     "output_type": "stream",
     "text": [
      "    *\n",
      "   ***\n",
      "  *****\n",
      " *******\n",
      "*********\n",
      " *******\n",
      "  *****\n",
      "   ***\n",
      "    *\n",
      "     \n"
     ]
    }
   ],
   "source": [
    "'''\n",
    "    *\n",
    "   ***\n",
    "  *****   \n",
    " *******\n",
    "*********\n",
    " *******\n",
    "  *****\n",
    "   ***\n",
    "    *\n",
    "'''\n",
    "\n",
    "n = int(input())\n",
    "a = n-1\n",
    "\n",
    "for i in range(1, n+1):\n",
    "    print(\" \"*a, end='')\n",
    "    for j in range((i*2)-1):\n",
    "        print(\"*\",end='')\n",
    "    print()\n",
    "    a -= 1\n",
    "\n",
    "a = 1\n",
    "for i in range(n-1, -1 , -1):\n",
    "    print(\" \"*a, end='')\n",
    "    for j in range((i*2)-1):\n",
    "        print(\"*\", end='')\n",
    "    print()\n",
    "    a += 1"
   ]
  },
  {
   "cell_type": "code",
   "execution_count": null,
   "metadata": {},
   "outputs": [],
   "source": []
  }
 ],
 "metadata": {
  "kernelspec": {
   "display_name": "Python 3",
   "language": "python",
   "name": "python3"
  },
  "language_info": {
   "codemirror_mode": {
    "name": "ipython",
    "version": 3
   },
   "file_extension": ".py",
   "mimetype": "text/x-python",
   "name": "python",
   "nbconvert_exporter": "python",
   "pygments_lexer": "ipython3",
   "version": "3.11.5"
  }
 },
 "nbformat": 4,
 "nbformat_minor": 2
}
