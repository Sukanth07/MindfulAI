{
 "cells": [
  {
   "cell_type": "markdown",
   "metadata": {},
   "source": [
    "# Daily Test 5\n"
   ]
  },
  {
   "cell_type": "markdown",
   "metadata": {},
   "source": [
    "1 - Given an array nums with n objects colored red, white, or blue, sort them in-place so that objects of the same color are adjacent, with the colors in the order red, white, and blue.\n",
    "\n",
    "We will use the integers 0, 1, and 2 to represent the color red, white, and blue, respectively.\n",
    "\n",
    "You must solve this problem without using the library's sort function."
   ]
  },
  {
   "cell_type": "markdown",
   "metadata": {},
   "source": [
    "<!-- Example 1:\n",
    "\n",
    "Input: nums = [2,0,2,1,1,0]\n",
    "Output: [0,0,1,1,2,2]\n",
    "Example 2:\n",
    "\n",
    "Input: nums = [2,0,1]\n",
    "Output: [0,1,2] -->"
   ]
  },
  {
   "cell_type": "code",
   "execution_count": 1,
   "metadata": {},
   "outputs": [
    {
     "name": "stdout",
     "output_type": "stream",
     "text": [
      "[0, 0, 1, 2, 2]\n"
     ]
    }
   ],
   "source": [
    "def sortColors(nums):\n",
    "    n = len(nums)\n",
    "    swap = False\n",
    "    for i in range(n):\n",
    "        for j in range(n-i-1):\n",
    "            if nums[j] > nums[j+1]:\n",
    "                swap = True\n",
    "                nums[j], nums[j+1] = nums[j+1], nums[j]\n",
    "        if swap == False:\n",
    "            break\n",
    "\n",
    "nums = [0, 2, 1, 0, 2]\n",
    "sortColors(nums)\n",
    "print(nums)"
   ]
  },
  {
   "cell_type": "markdown",
   "metadata": {},
   "source": [
    "2- Given an integer array nums and an integer val, remove all occurrences of val in nums in-place. The order of the elements may be changed. Then return the number of elements in nums which are not equal to val.\n",
    "\n",
    "Consider the number of elements in nums which are not equal to val be k, to get accepted, you need to do the following things:\n",
    "\n",
    "Change the array nums such that the first k elements of nums contain the elements which are not equal to val. The remaining elements of nums are not important as well as the size of nums.\n",
    "Return k."
   ]
  },
  {
   "cell_type": "code",
   "execution_count": null,
   "metadata": {},
   "outputs": [],
   "source": [
    "# Example 1:\n",
    "\n",
    "# Input: nums = [3,2,2,3], val = 3\n",
    "# Output: 2, nums = [2,2,_,_]\n",
    "# Explanation: Your function should return k = 2, with the first two elements of nums being 2.\n",
    "# It does not matter what you leave beyond the returned k (hence they are underscores).\n",
    "# Example 2:\n",
    "\n",
    "# Input: nums = [0,1,2,2,3,0,4,2], val = 2\n",
    "# Output: 5, nums = [0,1,4,0,3,_,_,_]\n",
    "# Explanation: Your function should return k = 5, with the first five elements of nums containing 0, 0, 1, 3, and 4.\n",
    "# Note that the five elements can be returned in any order.\n",
    "# It does not matter what you leave beyond the returned k (hence they are underscores)."
   ]
  },
  {
   "cell_type": "code",
   "execution_count": 1,
   "metadata": {},
   "outputs": [
    {
     "name": "stdout",
     "output_type": "stream",
     "text": [
      "(5, [0, 1, 3, 0, 4])\n"
     ]
    }
   ],
   "source": [
    "def removeElement(nums, val):\n",
    "    i = count = 0\n",
    "    n = len(nums)\n",
    "    while i < n:\n",
    "        if nums[i] == val:\n",
    "            nums.remove(nums[i])\n",
    "            n -= 1\n",
    "        else:\n",
    "            i += 1\n",
    "            count += 1\n",
    "    return count, nums\n",
    "\n",
    "nums = [0,1,2,2,3,0,4,2]\n",
    "val = 2\n",
    "print(removeElement(nums,val))\n",
    "             \n",
    "        "
   ]
  },
  {
   "cell_type": "markdown",
   "metadata": {},
   "source": [
    "3- Count subarrays with equal number of 1’s and 0’s\n",
    "Given an array arr[] of size n containing 0 and 1 only. The problem is to count the subarrays having an equal number of 0’s and 1’s."
   ]
  },
  {
   "cell_type": "code",
   "execution_count": null,
   "metadata": {},
   "outputs": [],
   "source": [
    "# Input: arr[] = {1, 0, 0, 1, 0, 1, 1}\n",
    "# Output: 8\n",
    "# Explanation: The index range for the 8 sub-arrays are: (0, 1), (2, 3), (0, 3), (3, 4), (4, 5)(2, 5), (0, 5), (1, 6)\n",
    "\n",
    "# Input: arr = { 1, 0, 0, 1, 1, 0, 0, 1}\n",
    "# Output: 12"
   ]
  },
  {
   "cell_type": "code",
   "execution_count": null,
   "metadata": {},
   "outputs": [],
   "source": [
    "def countSubarrays(arr):\n",
    "    n = len(arr)\n",
    "    count = 0\n",
    "    prefix_sum = 0\n",
    "    count_dict = {0: 1}  # Initialize the count dictionary with prefix sum 0\n",
    "\n",
    "    for i in range(n):\n",
    "        prefix_sum += arr[i] if arr[i] == 1 else -1\n",
    "\n",
    "        if prefix_sum in count_dict:\n",
    "            count += count_dict[prefix_sum]\n",
    "\n",
    "        count_dict[prefix_sum] = count_dict.get(prefix_sum, 0) + 1\n",
    "\n",
    "    return count\n",
    "\n",
    "arr = [1, 0, 0, 1, 0, 1, 1]\n",
    "print(countSubarrays(arr))\n",
    "\n",
    "arr = [1, 0, 0, 1, 1, 0, 0, 1]\n",
    "print(countSubarrays(arr))\n",
    "\n",
    "\n"
   ]
  },
  {
   "cell_type": "code",
   "execution_count": null,
   "metadata": {},
   "outputs": [],
   "source": []
  },
  {
   "cell_type": "code",
   "execution_count": 5,
   "metadata": {},
   "outputs": [
    {
     "name": "stdout",
     "output_type": "stream",
     "text": [
      "12\n"
     ]
    }
   ],
   "source": [
    "def countSubarrays(arr):\n",
    "    n = len(arr)\n",
    "    res = 0\n",
    "\n",
    "    for i in range(n):\n",
    "        count_1 = 0\n",
    "        count_0 = 0\n",
    "        for j in range(i,n):\n",
    "            if arr[j] == 1:\n",
    "                count_1 += 1\n",
    "            if arr[j] == 0:\n",
    "                count_0 += 1\n",
    "            if count_1 == count_0:\n",
    "                res += 1\n",
    "    \n",
    "    return res\n",
    "\n",
    "\n",
    "arr = [1, 0, 0, 1, 1, 0, 0, 1]\n",
    "print(countSubarrays(arr))"
   ]
  },
  {
   "cell_type": "markdown",
   "metadata": {},
   "source": [
    "4- Longest Consecutive Subsequence, Given an array of integers, find the length of the longest sub-sequence such that elements in the subsequence are consecutive integers, the consecutive numbers can be in any order. "
   ]
  },
  {
   "cell_type": "code",
   "execution_count": null,
   "metadata": {},
   "outputs": [],
   "source": [
    "# Input: arr[] = {1, 9, 3, 10, 4, 20, 2}\n",
    "# Output: 4\n",
    "# Explanation: The subsequence 1, 3, 4, 2 is the longest subsequence of consecutive elements\n",
    "\n",
    "# Input: arr[] = {36, 41, 56, 35, 44, 33, 34, 92, 43, 32, 42}\n",
    "# Output: 5\n",
    "# Explanation: The subsequence 36, 35, 33, 34, 32 is the longest subsequence of consecutive elements."
   ]
  },
  {
   "cell_type": "code",
   "execution_count": 13,
   "metadata": {},
   "outputs": [
    {
     "name": "stdout",
     "output_type": "stream",
     "text": [
      "[32, 33, 34, 35, 36, 41, 42, 43, 44, 56, 92]\n",
      "5\n"
     ]
    }
   ],
   "source": [
    "def longestConsecutive(arr):\n",
    "    arr.sort()\n",
    "    print(arr)\n",
    "    n = len(arr)\n",
    "    count = 1\n",
    "    max_ = 0\n",
    "    for i in range(n-1):\n",
    "        if (arr[i+1] - arr[i]) == 1:\n",
    "            count += 1\n",
    "        else:\n",
    "            count = 0\n",
    "        max_ = max(max_, count)\n",
    "\n",
    "    return max_\n",
    "\n",
    "arr = [36, 41, 56, 35, 44, 33, 34, 92, 43, 32, 42]\n",
    "print(longestConsecutive(arr))"
   ]
  },
  {
   "cell_type": "code",
   "execution_count": null,
   "metadata": {},
   "outputs": [],
   "source": []
  }
 ],
 "metadata": {
  "kernelspec": {
   "display_name": "Python 3",
   "language": "python",
   "name": "python3"
  },
  "language_info": {
   "codemirror_mode": {
    "name": "ipython",
    "version": 3
   },
   "file_extension": ".py",
   "mimetype": "text/x-python",
   "name": "python",
   "nbconvert_exporter": "python",
   "pygments_lexer": "ipython3",
   "version": "3.11.5"
  }
 },
 "nbformat": 4,
 "nbformat_minor": 2
}
