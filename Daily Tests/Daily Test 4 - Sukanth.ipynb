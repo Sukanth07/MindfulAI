{
 "cells": [
  {
   "cell_type": "markdown",
   "metadata": {},
   "source": [
    "# Daily Test 4"
   ]
  },
  {
   "cell_type": "markdown",
   "metadata": {},
   "source": [
    "1-Write a Python function to find the kth smallest element in an unsorted list of integers.\n"
   ]
  },
  {
   "cell_type": "code",
   "execution_count": 3,
   "metadata": {},
   "outputs": [
    {
     "data": {
      "text/plain": [
       "7"
      ]
     },
     "execution_count": 3,
     "metadata": {},
     "output_type": "execute_result"
    }
   ],
   "source": [
    "# Description: Given an unsorted list of integers, the task is to find the kth smallest element efficiently.\n",
    "# Sample Input/Output:\n",
    "# Input: [7, 10, 4, 3, 20, 15], k = 3\n",
    "# Output: 7\n",
    "\n",
    "def kthSmallest(lst,k):\n",
    "    n = len(lst)\n",
    "    for i in range(n):\n",
    "        min_index = i\n",
    "        for j in range(i+1,n):\n",
    "            if lst[j] < lst[min_index]:\n",
    "                min_index = j\n",
    "        lst[min_index], lst[i] = lst[i], lst[min_index]\n",
    "    return lst[k-1]\n",
    "\n",
    "lst = [7, 10, 4, 3, 20, 15]\n",
    "kthSmallest(lst,k=3)"
   ]
  },
  {
   "cell_type": "markdown",
   "metadata": {},
   "source": [
    "2- Write a Python function to implement insertion sort algorithm to sort a list of integers."
   ]
  },
  {
   "cell_type": "code",
   "execution_count": 4,
   "metadata": {},
   "outputs": [
    {
     "data": {
      "text/plain": [
       "[5, 6, 7, 11, 12, 13]"
      ]
     },
     "execution_count": 4,
     "metadata": {},
     "output_type": "execute_result"
    }
   ],
   "source": [
    "# Description: Merge sort is a divide-and-conquer algorithm that recursively divides the list into halves until each sublist contains only one element, then merges them back together in sorted order.\n",
    "# Sample Input/Output:\n",
    "# Input: [12, 11, 13, 5, 6, 7]\n",
    "# Output: [5, 6, 7, 11, 12, 13]\n",
    "\n",
    "def merge(arr,left,right):\n",
    "    a = len(left)\n",
    "    b = len(right)\n",
    "    i = j = k = 0\n",
    "    while i < a and j < b:\n",
    "        if left[i] < right[j]:\n",
    "            arr[k] = left[i]\n",
    "            i += 1\n",
    "            k += 1\n",
    "        else:\n",
    "            arr[k] = right[j]\n",
    "            j += 1\n",
    "            k += 1\n",
    "    while i < a:\n",
    "        arr[k] = left[i]\n",
    "        i += 1\n",
    "        k += 1\n",
    "    while j < b:\n",
    "        arr[k] = right[j]\n",
    "        j += 1\n",
    "        k += 1\n",
    "\n",
    "def mergeSort(arr):\n",
    "    if len(arr) > 1:\n",
    "        mid = len(arr) // 2\n",
    "        left = arr[:mid]\n",
    "        right = arr[mid:]\n",
    "        mergeSort(left)\n",
    "        mergeSort(right)\n",
    "        merge(arr,left,right)\n",
    "        return arr\n",
    "\n",
    "arr = [12, 11, 13, 5, 6, 7]\n",
    "mergeSort(arr)"
   ]
  },
  {
   "cell_type": "markdown",
   "metadata": {},
   "source": [
    "3-  Write a Python function to find the frequency of each word in a given text, excluding common stop words like 'the', 'is', 'and', etc."
   ]
  },
  {
   "cell_type": "code",
   "execution_count": 10,
   "metadata": {},
   "outputs": [
    {
     "data": {
      "text/plain": [
       "{'quick': 1, 'brown': 1, 'fox': 1, 'jumps': 1, 'over': 1, 'lazy': 1, 'dog': 1}"
      ]
     },
     "execution_count": 10,
     "metadata": {},
     "output_type": "execute_result"
    }
   ],
   "source": [
    "# Description: The task is to count the occurrences of each word in the text excluding commonly occurring stop words.\n",
    "# Sample Input/Output:\n",
    "# Input: \"The quick brown fox jumps over the lazy dog\"\n",
    "# Output: {'quick': 1, 'brown': 1, 'fox': 1, 'jumps': 1, 'over': 1, 'lazy': 1, 'dog': 1}\n",
    "\n",
    "def frequency(string):\n",
    "    string = string.lower()\n",
    "    string = string.split()\n",
    "    freq = {}\n",
    "    for i in string:\n",
    "        if i not in ['the', 'is', 'and']:\n",
    "            freq[i] = freq.get(i,0)+1\n",
    "    return freq\n",
    "\n",
    "string = \"The quick brown fox jumps over the lazy dog\"\n",
    "frequency(string)"
   ]
  },
  {
   "cell_type": "markdown",
   "metadata": {},
   "source": [
    "4- Write a Python program to print a diamond pattern of asterisks of a given size n"
   ]
  },
  {
   "cell_type": "code",
   "execution_count": 67,
   "metadata": {},
   "outputs": [
    {
     "name": "stdout",
     "output_type": "stream",
     "text": [
      "    *\n",
      "   ***\n",
      "  *****\n",
      " *******\n",
      "  *****\n",
      "   ***\n",
      "    *\n"
     ]
    }
   ],
   "source": [
    "# Description: The task is to print a diamond pattern where the number of rows is equal to n.\n",
    "# Sample Input/Output:\n",
    "# Input: n = 5\n",
    "# Output:\n",
    "#     *\n",
    "#    ***\n",
    "#   *****\n",
    "#    ***\n",
    "#     *\n",
    "\n",
    "def diamondPattern(n):\n",
    "    for i in range(1,n+1,2):\n",
    "        print(' '*((n-i)//2),'*'*i)\n",
    "    for i in range(n-2,0,-2):\n",
    "        print(' '*((n-i)//2),'*'*i)\n",
    "\n",
    "n = 6\n",
    "if n % 2 == 0:\n",
    "    n += 1\n",
    "diamondPattern(n)"
   ]
  },
  {
   "cell_type": "markdown",
   "metadata": {},
   "source": [
    "5- Write a Python function to find the longest palindromic substring in a given string."
   ]
  },
  {
   "cell_type": "code",
   "execution_count": 1,
   "metadata": {},
   "outputs": [
    {
     "data": {
      "text/plain": [
       "'bb'"
      ]
     },
     "execution_count": 1,
     "metadata": {},
     "output_type": "execute_result"
    }
   ],
   "source": [
    "# Description: A palindrome is a word, phrase, number, or other sequence of characters that reads the same forward and backward. The task is to find the longest palindromic substring in the given string.\n",
    "# Sample Input/Output:\n",
    "# Input: \"babad\"\n",
    "# Output: \"bab\" or \"aba\"\n",
    "\n",
    "def longestPalindromic(string):\n",
    "    res = ''\n",
    "    res_len = 0\n",
    "    for i in range(len(string)):\n",
    "        l,r = i,i\n",
    "        while l >= 0 and r < len(string) and string[l] == string[r]:\n",
    "            if (r-l+1) > res_len:\n",
    "                res = string[l:r+1]\n",
    "                res_len = r-l+1\n",
    "            l -= 1\n",
    "            r += 1\n",
    "            \n",
    "        l,r = i,i+1\n",
    "        while l >= 0 and r < len(string) and string[l] == string[r]:\n",
    "            if (r-l+1) > res_len:\n",
    "                res = string[l:r+1]\n",
    "                res_len = r-l+1\n",
    "            l -= 1\n",
    "            r += 1\n",
    "    return res\n",
    "\n",
    "string = 'babada'\n",
    "string = 'cbba'\n",
    "longestPalindromic(string)\n",
    "\n"
   ]
  },
  {
   "cell_type": "markdown",
   "metadata": {},
   "source": [
    "6- Write a Python program to find all possible combinations of k numbers out of 1...n.\n"
   ]
  },
  {
   "cell_type": "code",
   "execution_count": 1,
   "metadata": {},
   "outputs": [
    {
     "data": {
      "text/plain": [
       "[[1, 2], [1, 3], [1, 4], [2, 3], [2, 4], [3, 4]]"
      ]
     },
     "execution_count": 1,
     "metadata": {},
     "output_type": "execute_result"
    }
   ],
   "source": [
    "# Description: Given two integers n and k, return all possible combinations of k numbers out of 1...n.\n",
    "# Sample Input/Output:\n",
    "# Input: n = 4, k = 2\n",
    "# Output: [[1, 2], [1, 3], [1, 4], [2, 3], [2, 4], [3, 4]]\n",
    "\n",
    "\n",
    "def combinations(n, k):\n",
    "    result = []\n",
    "    current = []\n",
    "\n",
    "    def backtrack(start):\n",
    "        if len(current) == k:\n",
    "            result.append(current[:])\n",
    "            return\n",
    "        for i in range(start, n + 1):\n",
    "            current.append(i)\n",
    "            backtrack(i + 1)\n",
    "            current.pop()\n",
    "\n",
    "    backtrack(1)\n",
    "    return result\n",
    "\n",
    "n = 4\n",
    "k = 2\n",
    "combinations(n, k)\n"
   ]
  },
  {
   "cell_type": "code",
   "execution_count": null,
   "metadata": {},
   "outputs": [],
   "source": []
  }
 ],
 "metadata": {
  "kernelspec": {
   "display_name": "Python 3",
   "language": "python",
   "name": "python3"
  },
  "language_info": {
   "codemirror_mode": {
    "name": "ipython",
    "version": 3
   },
   "file_extension": ".py",
   "mimetype": "text/x-python",
   "name": "python",
   "nbconvert_exporter": "python",
   "pygments_lexer": "ipython3",
   "version": "3.11.5"
  }
 },
 "nbformat": 4,
 "nbformat_minor": 2
}
