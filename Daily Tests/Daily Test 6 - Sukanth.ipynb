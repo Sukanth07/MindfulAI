{
 "cells": [
  {
   "cell_type": "markdown",
   "metadata": {},
   "source": [
    "# Daily Test 6"
   ]
  },
  {
   "cell_type": "markdown",
   "metadata": {},
   "source": [
    "1 - Find the missing and repeating number"
   ]
  },
  {
   "cell_type": "markdown",
   "metadata": {},
   "source": [
    "Given an unsorted array of size n. Array elements are in the range of 1 to n. One number from set {1, 2, …n} is missing and one number occurs twice in the array. Find these two numbers."
   ]
  },
  {
   "cell_type": "code",
   "execution_count": null,
   "metadata": {},
   "outputs": [],
   "source": [
    "# Input: arr[] = {3, 1, 3}\n",
    "# Output: Missing = 2, Repeating = 3\n",
    "# Explanation: In the array, 2 is missing and 3 occurs twice \n",
    "\n",
    "# Input: arr[] = {4, 3, 6, 2, 1, 1}\n",
    "# Output: Missing = 5, Repeating = 1"
   ]
  },
  {
   "cell_type": "code",
   "execution_count": 10,
   "metadata": {},
   "outputs": [
    {
     "name": "stdout",
     "output_type": "stream",
     "text": [
      "Missing = 5, Repeating = 1\n"
     ]
    }
   ],
   "source": [
    "def missing_numbers(arr):\n",
    "    n = len(arr)\n",
    "    hmap = {}\n",
    "    for i in range(1,n+1):\n",
    "        hmap[i] = 0\n",
    "    for i in range(n):\n",
    "        hmap[arr[i]] += 1\n",
    "\n",
    "    keys_with_value_2 = [key for key, value in hmap.items() if value == 2]\n",
    "    keys_with_value_0 = [key for key, value in hmap.items() if value == 0]\n",
    "\n",
    "    print(f\"Missing = {keys_with_value_0[0]}, Repeating = {keys_with_value_2[0]}\")\n",
    "\n",
    "\n",
    "\n",
    "arr = [4, 3, 6, 2, 1, 1]\n",
    "missing_numbers(arr)\n",
    "\n",
    "\n",
    "# Time Complexity --> O(4n)"
   ]
  },
  {
   "cell_type": "code",
   "execution_count": 9,
   "metadata": {},
   "outputs": [
    {
     "name": "stdout",
     "output_type": "stream",
     "text": [
      "[2, 1, 1, 1, 0, 1]\n",
      "Missing : 5, Repeating : 1\n"
     ]
    }
   ],
   "source": [
    "def missing_numbers2(arr):\n",
    "    n = len(arr)\n",
    "    l = [0]*max(arr)\n",
    "    value_2 = 0\n",
    "    for i in arr:\n",
    "        l[i-1] += 1\n",
    "        if l[i-1] == 2:\n",
    "            value_2 = i\n",
    "    print(l)\n",
    "    print(f\"Missing : {l.index(min(l))+1}, Repeating : {value_2}\")\n",
    "\n",
    "arr = [4,3,6,2,1,1]\n",
    "missing_numbers2(arr)\n",
    "\n",
    "# Time Complexity --> O(n)"
   ]
  },
  {
   "cell_type": "markdown",
   "metadata": {},
   "source": [
    "2- Sort an array in wave form\n"
   ]
  },
  {
   "cell_type": "markdown",
   "metadata": {},
   "source": [
    "Given an unsorted array of integers, sort the array into a wave array. An array arr[0..n-1] is sorted in wave form if:\n",
    "arr[0] >= arr[1] <= arr[2] >= arr[3] <= arr[4] >= ….."
   ]
  },
  {
   "cell_type": "code",
   "execution_count": 51,
   "metadata": {},
   "outputs": [
    {
     "name": "stdout",
     "output_type": "stream",
     "text": [
      "[4, 2, 8, 6, 20, 10]\n"
     ]
    }
   ],
   "source": [
    "# Input:  arr[] = {10, 5, 6, 3, 2, 20, 100, 80}\n",
    "# Output: arr[] = {10, 5, 6, 2, 20, 3, 100, 80} \n",
    "# Explanation: \n",
    "# here you can see {10, 5, 6, 2, 20, 3, 100, 80} first element is larger than the second and the same thing is repeated again and again. large element – small element-large element -small element and so on .it can be small element-larger element – small element-large element -small element too. all you need to maintain is the up-down fashion which represents a wave. there can be multiple answers.\n",
    "\n",
    "# Input: arr[] = {20, 10, 8, 6, 4, 2}\n",
    "# Output: arr[] = {20, 8, 10, 4, 6, 2}\n",
    "\n",
    "def sort_wave(arr):\n",
    "    pass\n",
    "\n",
    "arr = [20, 10, 8, 6, 4, 2]\n",
    "\n"
   ]
  },
  {
   "cell_type": "markdown",
   "metadata": {},
   "source": [
    "3 - Mirror characters of a string"
   ]
  },
  {
   "cell_type": "markdown",
   "metadata": {},
   "source": [
    "Given a string and a number N, we need to mirror the characters from N-th position up to the length of the string in the alphabetical order. In mirror operation, we change ‘a’ to ‘z’, ‘b’ to ‘y’, and so on."
   ]
  },
  {
   "cell_type": "code",
   "execution_count": null,
   "metadata": {},
   "outputs": [],
   "source": [
    "# Input : N = 3\n",
    "#         paradox\n",
    "# Output :paizwlc\n",
    "# We mirror characters from position 3 to end.\n",
    "\n",
    "# Input : N = 6\n",
    "#         pneumonia\n",
    "# Output : pnefnlmrz"
   ]
  },
  {
   "cell_type": "code",
   "execution_count": 48,
   "metadata": {},
   "outputs": [
    {
     "name": "stdout",
     "output_type": "stream",
     "text": [
      "Output:  pnefnlmrz\n"
     ]
    }
   ],
   "source": [
    "def mirrorString(s, n):\n",
    "    string = \"abcdefghijklmnopqrstuvwxyz\"\n",
    "    string_rev = string[::-1]\n",
    "\n",
    "    res = s[:n-1]\n",
    "    hmap_string = {}\n",
    "    hmap_string_rev = {}\n",
    "\n",
    "    for i in range(len(string)):\n",
    "        hmap_string[string[i]] = i\n",
    "    \n",
    "    for i in range(len(string_rev)):\n",
    "        hmap_string_rev[string_rev[i]] = i\n",
    "\n",
    "    for i in range(n-1, len(s)):\n",
    "        char_index = hmap_string.get(s[i])\n",
    "        mirror_char = [key for key,value in hmap_string_rev.items() if value==char_index]\n",
    "\n",
    "        res += mirror_char[0]\n",
    "    \n",
    "    print(\"Output: \", res)\n",
    "\n",
    "s = 'pneumonia'\n",
    "n = 4\n",
    "mirrorString(s, n)"
   ]
  },
  {
   "cell_type": "markdown",
   "metadata": {},
   "source": [
    "4 - Minimum Swaps for Bracket Balancing"
   ]
  },
  {
   "cell_type": "markdown",
   "metadata": {},
   "source": [
    "You are given a string of 2N characters consisting of N ‘[‘ brackets and N ‘]’ brackets. A string is considered balanced if it can be represented in the form S2[S1] where S1 and S2 are balanced strings. We can make an unbalanced string balanced by swapping adjacent characters. Calculate the minimum number of swaps necessary to make a string balanced."
   ]
  },
  {
   "cell_type": "code",
   "execution_count": 5,
   "metadata": {},
   "outputs": [
    {
     "name": "stdout",
     "output_type": "stream",
     "text": [
      "Output: 0\n"
     ]
    }
   ],
   "source": [
    "# Input  : []][][\n",
    "# Output : 2\n",
    "# First swap: Position 3 and 4\n",
    "# [][]][\n",
    "# Second swap: Position 5 and 6\n",
    "# [][][]\n",
    "# Input  : [[][]]\n",
    "# Output : 0\n",
    "# The string is already balanced.\n",
    "\n",
    "def min_swaps(s):\n",
    "    stack = []\n",
    "    swaps = 0\n",
    "\n",
    "    for char in s:\n",
    "        if char == '[':\n",
    "            stack.append(char)\n",
    "        else:\n",
    "            if stack and stack[-1] == '[':\n",
    "                stack.pop()\n",
    "            else:\n",
    "                stack.append(char)\n",
    "                swaps += 1\n",
    "\n",
    "    return swaps\n",
    "\n",
    "s = '[[][]]'\n",
    "output = min_swaps(s)\n",
    "print(f\"Output: {output}\")\n"
   ]
  },
  {
   "cell_type": "markdown",
   "metadata": {},
   "source": []
  },
  {
   "cell_type": "code",
   "execution_count": null,
   "metadata": {},
   "outputs": [],
   "source": []
  }
 ],
 "metadata": {
  "kernelspec": {
   "display_name": "Python 3",
   "language": "python",
   "name": "python3"
  },
  "language_info": {
   "codemirror_mode": {
    "name": "ipython",
    "version": 3
   },
   "file_extension": ".py",
   "mimetype": "text/x-python",
   "name": "python",
   "nbconvert_exporter": "python",
   "pygments_lexer": "ipython3",
   "version": "3.11.5"
  }
 },
 "nbformat": 4,
 "nbformat_minor": 2
}
