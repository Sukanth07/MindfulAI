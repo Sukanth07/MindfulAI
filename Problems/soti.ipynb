{
 "cells": [
  {
   "cell_type": "markdown",
   "metadata": {},
   "source": [
    "# Manhattan Subarray"
   ]
  },
  {
   "cell_type": "code",
   "execution_count": 12,
   "metadata": {},
   "outputs": [
    {
     "name": "stdout",
     "output_type": "stream",
     "text": [
      "10\n",
      "12\n",
      "3\n"
     ]
    }
   ],
   "source": [
    "def is_stable(A, l, r):\n",
    "    for i in range(l, r + 1):\n",
    "        for j in range(i + 1, r + 1):\n",
    "            for k in range(j + 1, r + 1):\n",
    "                d1 = abs(A[i] - A[j]) + abs(i - j)\n",
    "                d2 = abs(A[j] - A[k]) + abs(j - k)\n",
    "                d3 = abs(A[i] - A[k]) + abs(i - k)\n",
    "                if d3 == d1 + d2:\n",
    "                    return False\n",
    "    return True\n",
    "\n",
    "def count_good_subarrays(a):\n",
    "    n = len(a)\n",
    "    count = 0\n",
    "    for l in range(n):\n",
    "        for r in range(l, n):\n",
    "            if is_stable(a, l, r):\n",
    "                count += 1\n",
    "                \n",
    "    return count\n",
    "\n",
    "\n",
    "arr = [2,4,1,3]\n",
    "print(count_good_subarrays(arr))\n",
    "\n",
    "arr = [6,9,1,9,6]\n",
    "print(count_good_subarrays(arr))\n",
    "\n",
    "arr = [13,37]\n",
    "print(count_good_subarrays(arr))\n"
   ]
  },
  {
   "cell_type": "markdown",
   "metadata": {},
   "source": [
    "# Largest Lexicographical Value after atmost B swaps"
   ]
  },
  {
   "cell_type": "code",
   "execution_count": 42,
   "metadata": {},
   "outputs": [
    {
     "name": "stdout",
     "output_type": "stream",
     "text": [
      "54321\n"
     ]
    }
   ],
   "source": [
    "def largest_lexicographical(arr, b):\n",
    "    hmap = {}\n",
    "    longest = \"\"\n",
    "    n = len(arr)\n",
    "    for i in range(n):\n",
    "        hmap[arr[i]] = i\n",
    "    maxi = n\n",
    "    for i in range(b):\n",
    "        if maxi < 1:\n",
    "            continue\n",
    "        arr[i], arr[hmap[maxi]] = arr[hmap[maxi]], arr[i]\n",
    "        value = ''.join(map(str,arr))\n",
    "        if value > longest:\n",
    "            longest = value\n",
    "        maxi -= 1\n",
    "    \n",
    "    return longest\n",
    "\n",
    "arr = [2,3,4,5,1]\n",
    "b = 3\n",
    "print(largest_lexicographical(arr,b))\n"
   ]
  },
  {
   "cell_type": "code",
   "execution_count": null,
   "metadata": {},
   "outputs": [],
   "source": []
  }
 ],
 "metadata": {
  "kernelspec": {
   "display_name": "base",
   "language": "python",
   "name": "python3"
  },
  "language_info": {
   "codemirror_mode": {
    "name": "ipython",
    "version": 3
   },
   "file_extension": ".py",
   "mimetype": "text/x-python",
   "name": "python",
   "nbconvert_exporter": "python",
   "pygments_lexer": "ipython3",
   "version": "3.11.5"
  }
 },
 "nbformat": 4,
 "nbformat_minor": 2
}
