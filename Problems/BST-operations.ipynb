{
 "cells": [
  {
   "cell_type": "code",
   "execution_count": 1,
   "metadata": {},
   "outputs": [],
   "source": [
    "from collections import deque"
   ]
  },
  {
   "cell_type": "code",
   "execution_count": 44,
   "metadata": {},
   "outputs": [],
   "source": [
    "class Node:\n",
    "    def __init__(self, value):\n",
    "        self.value = value\n",
    "        self.left = None\n",
    "        self.right = None\n",
    "\n",
    "class BST:\n",
    "    def __init__(self):\n",
    "        self.root = None\n",
    "    \n",
    "    def insert_in_bst(self, data):\n",
    "        node = Node(data)\n",
    "        if self.root is None:\n",
    "            self.root = node\n",
    "            return\n",
    "        parent_node = None\n",
    "        direction = None      #True --> Right , False --> Left\n",
    "        temp = self.root\n",
    "        while temp is not None:\n",
    "            if data < temp.value:\n",
    "                parent_node = temp\n",
    "                direction = False\n",
    "                temp = temp.left\n",
    "            else:\n",
    "                parent_node = temp\n",
    "                direction = True\n",
    "                temp = temp.right\n",
    "        if direction == False:\n",
    "            parent_node.left = node\n",
    "        else:\n",
    "            parent_node.right = node\n",
    "\n",
    "\n",
    "    def search_in_bst(self, key):\n",
    "        if self.root is None:\n",
    "            print(\"Root node is not initialized!\")\n",
    "            return\n",
    "        temp = self.root\n",
    "        path = ['root']\n",
    "        found = False\n",
    "        while temp is not None:\n",
    "            if key == temp.value:\n",
    "                found = True\n",
    "                break\n",
    "            elif key < temp.value:\n",
    "                temp = temp.left\n",
    "                path.append('left')\n",
    "            else:\n",
    "                temp = temp.right\n",
    "                path.append('right')\n",
    "        if found == True:\n",
    "            print(f\"Element found in BST.\\nPath => {'->'.join(path)}\")\n",
    "        else:\n",
    "            print(\"Element not found in BST!\")       \n",
    "\n",
    "\n",
    "    def display_dfs_inorder(self, root, msg):\n",
    "        if root:\n",
    "            self.display_dfs_inorder(root.left, msg=f'Left of {root.value}')\n",
    "            print(f'{msg} : ', root.value)\n",
    "            self.display_dfs_inorder(root.right, msg=f'Right fo {root.value}')\n",
    "\n",
    "    def display_dfs_preorder(self, root, msg):\n",
    "        if root:\n",
    "            print(f\"{msg} : \", root.value)\n",
    "            self.display_dfs_preorder(root.left, msg=f'Left of {root.value}')\n",
    "            self.display_dfs_preorder(root.right, msg=f'Right of {root.value}')\n",
    "\n",
    "    def display_dfs_postorder(self, root, msg):\n",
    "        if root:\n",
    "            self.display_dfs_postorder(root.left, msg=f'Left of {root.value}')\n",
    "            self.display_dfs_postorder(root.right, msg=f'Right of {root.value}')\n",
    "            print(f\"{msg} : \", root.value)\n",
    "            \n",
    "\n",
    "    def display_bfs_bst(self):\n",
    "        #Deque library is imported\n",
    "        queue = deque()\n",
    "        if self.root is None:\n",
    "            print(\"Root node is not initialized!\")\n",
    "            return\n",
    "        queue.append(self.root)\n",
    "        n = len(queue)\n",
    "        res = []\n",
    "        while n > 0:\n",
    "            node = queue.popleft()\n",
    "            n -= 1\n",
    "            res.append(str(node.value))\n",
    "            if node.left is not None:\n",
    "                queue.append(node.left)\n",
    "                n += 1\n",
    "            if node.right is not None:\n",
    "                queue.append(node.right)\n",
    "                n += 1\n",
    "        print('->'.join(res))\n",
    "\n",
    "\n",
    "    def delete_in_bst(self, root, key):\n",
    "        if root is None:\n",
    "            print(\"Root node is not initialized!\")\n",
    "            return\n",
    "        if key < root.value:\n",
    "            root.left = self.delete_in_bst(root.left, key)\n",
    "        elif key > root.value:\n",
    "            root.right = self.delete_in_bst(root.right, key)\n",
    "        else:\n",
    "            if root.left is None:\n",
    "                return root.right\n",
    "            elif root.right is None:\n",
    "                return root.left\n",
    "            \n",
    "            temp = root.right\n",
    "            while temp.left is not None:\n",
    "                temp = temp.left\n",
    "            root.value = temp.value\n",
    "            root.right = self.delete_in_bst(root.right, key=root.value)\n",
    "\n",
    "        # Here, we make modification in the tree by deletion\n",
    "        # So we need to update the root node and return it\n",
    "        return root"
   ]
  },
  {
   "cell_type": "markdown",
   "metadata": {},
   "source": [
    "# BST Insertion"
   ]
  },
  {
   "cell_type": "code",
   "execution_count": 45,
   "metadata": {},
   "outputs": [],
   "source": [
    "bst = BST()\n",
    "bst.insert_in_bst(5)\n",
    "bst.insert_in_bst(3)\n",
    "bst.insert_in_bst(1)\n",
    "bst.insert_in_bst(4)\n",
    "bst.insert_in_bst(8)\n",
    "bst.insert_in_bst(7)"
   ]
  },
  {
   "cell_type": "markdown",
   "metadata": {},
   "source": [
    "# BST Search"
   ]
  },
  {
   "cell_type": "code",
   "execution_count": 46,
   "metadata": {},
   "outputs": [
    {
     "name": "stdout",
     "output_type": "stream",
     "text": [
      "Search Element is : 7\n",
      "Element found in BST.\n",
      "Path => root->right->left\n"
     ]
    }
   ],
   "source": [
    "search = 7\n",
    "print(f\"Search Element is : {search}\")\n",
    "bst.search_in_bst(search)"
   ]
  },
  {
   "cell_type": "markdown",
   "metadata": {},
   "source": [
    "# BST DFS Inorder Traversal"
   ]
  },
  {
   "cell_type": "code",
   "execution_count": 47,
   "metadata": {},
   "outputs": [
    {
     "name": "stdout",
     "output_type": "stream",
     "text": [
      "Inorder DFS Traversal:-\n",
      "\n",
      "Left of 3 :  1\n",
      "Left of 5 :  3\n",
      "Right fo 3 :  4\n",
      "Root :  5\n",
      "Left of 8 :  7\n",
      "Right fo 5 :  8\n"
     ]
    }
   ],
   "source": [
    "print(\"Inorder DFS Traversal:-\\n\")\n",
    "bst.display_dfs_inorder(bst.root, \"Root\")"
   ]
  },
  {
   "cell_type": "markdown",
   "metadata": {},
   "source": [
    "# BST DFS Preorder Traversal"
   ]
  },
  {
   "cell_type": "code",
   "execution_count": 48,
   "metadata": {},
   "outputs": [
    {
     "name": "stdout",
     "output_type": "stream",
     "text": [
      "Preorder DFS Traversal:-\n",
      "\n",
      "Root :  5\n",
      "Left of 5 :  3\n",
      "Left of 3 :  1\n",
      "Right of 3 :  4\n",
      "Right of 5 :  8\n",
      "Left of 8 :  7\n"
     ]
    }
   ],
   "source": [
    "print(\"Preorder DFS Traversal:-\\n\")\n",
    "bst.display_dfs_preorder(bst.root, \"Root\")"
   ]
  },
  {
   "cell_type": "markdown",
   "metadata": {},
   "source": [
    "# BST DFS Postorder Traversal"
   ]
  },
  {
   "cell_type": "code",
   "execution_count": 49,
   "metadata": {},
   "outputs": [
    {
     "name": "stdout",
     "output_type": "stream",
     "text": [
      "Postorder DFS Traversal:-\n",
      "\n",
      "Left of 3 :  1\n",
      "Right of 3 :  4\n",
      "Left of 5 :  3\n",
      "Left of 8 :  7\n",
      "Right of 5 :  8\n",
      "Root :  5\n"
     ]
    }
   ],
   "source": [
    "print(\"Postorder DFS Traversal:-\\n\")\n",
    "bst.display_dfs_postorder(bst.root, \"Root\")"
   ]
  },
  {
   "cell_type": "markdown",
   "metadata": {},
   "source": [
    "# BST BFS Traversal"
   ]
  },
  {
   "cell_type": "code",
   "execution_count": 50,
   "metadata": {},
   "outputs": [
    {
     "name": "stdout",
     "output_type": "stream",
     "text": [
      "BFS Traversal:-\n",
      "\n",
      "5->3->8->1->4->7\n"
     ]
    }
   ],
   "source": [
    "print(\"BFS Traversal:-\\n\")\n",
    "bst.display_bfs_bst()"
   ]
  },
  {
   "cell_type": "markdown",
   "metadata": {},
   "source": [
    "# BST Deletion"
   ]
  },
  {
   "cell_type": "code",
   "execution_count": 51,
   "metadata": {},
   "outputs": [
    {
     "name": "stdout",
     "output_type": "stream",
     "text": [
      "Deletion Element is : 3\n",
      "5->4->8->1->7\n"
     ]
    }
   ],
   "source": [
    "bst1 = BST()\n",
    "bst1.insert_in_bst(5)\n",
    "bst1.insert_in_bst(3)\n",
    "bst1.insert_in_bst(1)\n",
    "bst1.insert_in_bst(4)\n",
    "bst1.insert_in_bst(8)\n",
    "bst1.insert_in_bst(7)\n",
    "\n",
    "element = 3\n",
    "print(f\"Deletion Element is : {element}\")\n",
    "bst1.root = bst1.delete_in_bst(bst1.root,element)\n",
    "bst1.display_bfs_bst()"
   ]
  },
  {
   "cell_type": "code",
   "execution_count": null,
   "metadata": {},
   "outputs": [],
   "source": []
  }
 ],
 "metadata": {
  "kernelspec": {
   "display_name": "base",
   "language": "python",
   "name": "python3"
  },
  "language_info": {
   "codemirror_mode": {
    "name": "ipython",
    "version": 3
   },
   "file_extension": ".py",
   "mimetype": "text/x-python",
   "name": "python",
   "nbconvert_exporter": "python",
   "pygments_lexer": "ipython3",
   "version": "3.11.5"
  }
 },
 "nbformat": 4,
 "nbformat_minor": 2
}
