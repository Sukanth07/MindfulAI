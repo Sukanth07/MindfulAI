{
 "cells": [
  {
   "cell_type": "markdown",
   "metadata": {},
   "source": [
    "# Longest Substring without repeating characters"
   ]
  },
  {
   "cell_type": "code",
   "execution_count": 5,
   "metadata": {},
   "outputs": [],
   "source": [
    "# Longest Substring without repeating characters\n",
    "\n",
    "# Sample Input 1: s = \"abcabcbb\"\n",
    "# Output : 3\n",
    "\n",
    "# Sample Input 2: s = \"azzkej\"\n",
    "# Output : 4\n",
    "\n",
    "# Sample Input 3: s = \"azazkej\"\n",
    "# Output : 5"
   ]
  },
  {
   "cell_type": "code",
   "execution_count": 4,
   "metadata": {},
   "outputs": [
    {
     "name": "stdout",
     "output_type": "stream",
     "text": [
      "bcda\n",
      "Result:  4\n"
     ]
    }
   ],
   "source": [
    "# Time Complexity: O(n) using Sliding Window Approach\n",
    "\n",
    "def longestSubstring(s):\n",
    "    n = len(s)\n",
    "    char_set = list()\n",
    "    start = end = max_len = 0\n",
    "\n",
    "    while start < n and end < n:\n",
    "        if s[end] not in char_set:\n",
    "            char_set.append(s[end])\n",
    "            end += 1\n",
    "            max_len = max(max_len, end - start)\n",
    "        else:\n",
    "            char_set.remove(s[start])\n",
    "            start += 1\n",
    "    \n",
    "    print(''.join(char_set))\n",
    "    return max_len\n",
    "\n",
    "s = \"abcbcda\"\n",
    "print(\"Result: \", longestSubstring(s))"
   ]
  },
  {
   "cell_type": "code",
   "execution_count": 5,
   "metadata": {},
   "outputs": [
    {
     "name": "stdout",
     "output_type": "stream",
     "text": [
      "{'a': 1, 'ab': 2, 'abc': 3, 'b': 1, 'bc': 2, 'c': 1, 'cb': 2, 'bcd': 3, 'bcda': 4}\n",
      "Result :  ('bcda', 4)\n"
     ]
    }
   ],
   "source": [
    "# Time Complexity: O(n^2) using Brute Force Approach & Hash Table\n",
    "\n",
    "def longestSubstring2(s):\n",
    "    hmap = {}\n",
    "    n = len(s)\n",
    "    isEnd = False\n",
    "\n",
    "    for i in range(0,n):\n",
    "        inner_string = \"\"\n",
    "        for j in range(i,n):\n",
    "            if s[j] not in inner_string:\n",
    "                inner_string += s[j]\n",
    "            else:\n",
    "                break\n",
    "            hmap[inner_string] = len(inner_string)\n",
    "            if j == (n-1):\n",
    "                isEnd = True\n",
    "\n",
    "        if isEnd == True:\n",
    "            break\n",
    "  \n",
    "    print(hmap)\n",
    "\n",
    "    max_key = \"\"\n",
    "    max_len = 0\n",
    "    for key, value in hmap.items():\n",
    "        if value > max_len:\n",
    "            max_len = value\n",
    "            max_key = key\n",
    "    \n",
    "    return max_key, max_len\n",
    "            \n",
    "\n",
    "s = \"abcbcda\"\n",
    "print(\"Result : \", longestSubstring2(s))\n"
   ]
  },
  {
   "cell_type": "code",
   "execution_count": 8,
   "metadata": {},
   "outputs": [
    {
     "name": "stdout",
     "output_type": "stream",
     "text": [
      "[10, 9, 8, 4, 3]\n",
      "0\n",
      "3\n",
      "4\n",
      "['Gold Medal', '4', '3', 'Silver Medal', 'Bronze Medal']\n"
     ]
    }
   ],
   "source": [
    "def fooo(score):\n",
    "    hmap = {}\n",
    "    n = len(score)\n",
    "    for i in range(n):\n",
    "        hmap[score[i]] = i\n",
    "    ranks = ['Gold Medal', 'Silver Medal', 'Bronze Medal']\n",
    "    score.sort(reverse=True)\n",
    "    res = ['']*n\n",
    "    for i in range(n):\n",
    "        if i < 3:\n",
    "            res[hmap[score[i]]] = ranks[i]\n",
    "        else:\n",
    "            res[hmap[score[i]]] = str(i)\n",
    "    return res\n",
    "score = [10,3,4,9,8]\n",
    "print(fooo(score))"
   ]
  },
  {
   "cell_type": "code",
   "execution_count": 3,
   "metadata": {},
   "outputs": [
    {
     "name": "stdout",
     "output_type": "stream",
     "text": [
      "85\n"
     ]
    }
   ],
   "source": [
    "# Number of steps required to make the binary string to 1 --> decimal\n",
    "\n",
    "def numSteps(s):\n",
    "    def binToDec(n):\n",
    "        dec = 0\n",
    "        base = 1\n",
    "        for i in range(len(n)-1,-1,-1):\n",
    "            dec += int(n[i]) * base\n",
    "            base = base * 2\n",
    "        return dec\n",
    "\n",
    "    steps = 0\n",
    "    flag = False\n",
    "    dec = binToDec(s)\n",
    "\n",
    "    while flag != True:\n",
    "        if dec == 1:\n",
    "            flag = True\n",
    "        elif dec % 2 == 1:\n",
    "            dec += 1\n",
    "            steps += 1\n",
    "        elif dec % 2 == 0:\n",
    "            dec = dec // 2\n",
    "            steps += 1            \n",
    "\n",
    "    return steps\n",
    "\n",
    "s = \"1111011110000011100000110001011011110010111001010111110001\"\n",
    "print(numSteps(s))"
   ]
  },
  {
   "cell_type": "code",
   "execution_count": 20,
   "metadata": {},
   "outputs": [
    {
     "name": "stdout",
     "output_type": "stream",
     "text": [
      "c\n"
     ]
    }
   ],
   "source": [
    "def clearDigits(s):\n",
    "    i = 0\n",
    "    j = 1\n",
    "    s = list(s)\n",
    "    while j < len(s):\n",
    "        if s[j].isdigit():\n",
    "            s.pop(j)\n",
    "            s.pop(i)\n",
    "            i -= 1\n",
    "            j -= 1\n",
    "        else:\n",
    "            i += 1\n",
    "            j += 1\n",
    "    return ''.join(s)\n",
    "\n",
    "s = \"c5c\"\n",
    "print(clearDigits(s))"
   ]
  },
  {
   "cell_type": "code",
   "execution_count": 2,
   "metadata": {},
   "outputs": [],
   "source": [
    "from collections import defaultdict\n",
    "def sortColors(nums):\n",
    "    # Approach 1 --> Bucket Sort\n",
    "    n = len(nums)\n",
    "    hmap = defaultdict(int)\n",
    "    for n in nums:\n",
    "        hmap[n] += 1\n",
    "    i = 0\n",
    "    while i < n:\n",
    "        for _ in range(hmap.get(0)):\n",
    "            nums[i] = 0\n",
    "            i += 1\n",
    "        for _ in range(hmap.get(1)):\n",
    "            nums[i] = 1\n",
    "            i += 1\n",
    "        for _ in range(hmap.get(2)):\n",
    "            nums[i] = 2\n",
    "            i += 1\n",
    "    \n",
    "    return nums\n",
    "\n",
    "nums = [2, 1, 0, 1, 2, 0]\n",
    "print(sortColors(nums))"
   ]
  },
  {
   "cell_type": "code",
   "execution_count": null,
   "metadata": {},
   "outputs": [],
   "source": []
  }
 ],
 "metadata": {
  "kernelspec": {
   "display_name": "base",
   "language": "python",
   "name": "python3"
  },
  "language_info": {
   "codemirror_mode": {
    "name": "ipython",
    "version": 3
   },
   "file_extension": ".py",
   "mimetype": "text/x-python",
   "name": "python",
   "nbconvert_exporter": "python",
   "pygments_lexer": "ipython3",
   "version": "3.11.5"
  }
 },
 "nbformat": 4,
 "nbformat_minor": 2
}
