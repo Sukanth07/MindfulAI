{
 "cells": [
  {
   "cell_type": "code",
   "execution_count": 19,
   "metadata": {},
   "outputs": [
    {
     "data": {
      "text/plain": [
       "3"
      ]
     },
     "execution_count": 19,
     "metadata": {},
     "output_type": "execute_result"
    }
   ],
   "source": [
    "from collections import defaultdict\n",
    "def majority_element(string):\n",
    "    s = list(map(int, string.strip().split(',')))\n",
    "    n = len(s)\n",
    "    hmap = defaultdict(int)\n",
    "    maxi = val = 0\n",
    "    for i in s:\n",
    "        hmap[i] += 1\n",
    "        if hmap[i] > maxi:\n",
    "            maxi = hmap[i]\n",
    "            val = i\n",
    "    return val\n",
    "string = \"1,2,3,3,3,1,2,1,1,3,2,3\"\n",
    "majority_element(string)"
   ]
  },
  {
   "cell_type": "code",
   "execution_count": 26,
   "metadata": {},
   "outputs": [
    {
     "name": "stdout",
     "output_type": "stream",
     "text": [
      "5 -> 3 -> 4 -> 7\n",
      "Ascending Order:  3 -> 4 -> 5 -> 7\n",
      "Descending Order:  7 -> 5 -> 4 -> 3\n"
     ]
    }
   ],
   "source": [
    "class Node:\n",
    "    def __init__(self, data):\n",
    "        self.data = data\n",
    "        self.next = None\n",
    "\n",
    "class LinkedList:\n",
    "    def __init__(self):\n",
    "        self.head = None\n",
    "    \n",
    "    def insertAtBeginning(self, val):\n",
    "        new_node = Node(val)\n",
    "        if self.head is None:\n",
    "            self.head = new_node\n",
    "        else:\n",
    "            new_node.next = self.head\n",
    "            self.head = new_node\n",
    "    \n",
    "    def swap(self, node1, node2):\n",
    "        tmp = node1.data\n",
    "        node1.data = node2.data\n",
    "        node2.data = tmp\n",
    "\n",
    "    def bubbleSort(self, head, ascending=True):\n",
    "        swapped = True\n",
    "\n",
    "        while swapped:\n",
    "            swapped = False\n",
    "            curr = head\n",
    "\n",
    "            while curr.next:\n",
    "                if (curr.data > curr.next.data and ascending) or (curr.data < curr.next.data and not ascending):\n",
    "                    self.swap(curr, curr.next)\n",
    "                    swapped = True\n",
    "                curr = curr.next\n",
    "\n",
    "    def displayLinkedList(self):\n",
    "        if self.head == None:\n",
    "            print(\"Head node is not initialized!\")\n",
    "            return\n",
    "        temp = self.head\n",
    "        while temp:\n",
    "            if temp.next is not None:\n",
    "                print(f\"{temp.data} -> \", end=\"\")\n",
    "            else:\n",
    "                print(temp.data)\n",
    "            temp = temp.next\n",
    "\n",
    "arr = [5,3,4,7]\n",
    "ll = LinkedList()\n",
    "for i in range(len(arr)-1, -1, -1):\n",
    "    ll.insertAtBeginning(arr[i])\n",
    "ll.displayLinkedList()\n",
    "\n",
    "# Sort in Ascending Order\n",
    "ll.bubbleSort(ll.head, ascending=True)\n",
    "print(\"Ascending Order: \", end=' ')\n",
    "ll.displayLinkedList()\n",
    "\n",
    "# Sort in Descending Order\n",
    "ll.bubbleSort(ll.head, ascending=False)\n",
    "print(\"Descending Order: \", end=' ')\n",
    "ll.displayLinkedList()"
   ]
  },
  {
   "cell_type": "code",
   "execution_count": null,
   "metadata": {},
   "outputs": [],
   "source": []
  },
  {
   "cell_type": "code",
   "execution_count": null,
   "metadata": {},
   "outputs": [],
   "source": []
  }
 ],
 "metadata": {
  "kernelspec": {
   "display_name": "base",
   "language": "python",
   "name": "python3"
  },
  "language_info": {
   "codemirror_mode": {
    "name": "ipython",
    "version": 3
   },
   "file_extension": ".py",
   "mimetype": "text/x-python",
   "name": "python",
   "nbconvert_exporter": "python",
   "pygments_lexer": "ipython3",
   "version": "3.11.5"
  }
 },
 "nbformat": 4,
 "nbformat_minor": 2
}
