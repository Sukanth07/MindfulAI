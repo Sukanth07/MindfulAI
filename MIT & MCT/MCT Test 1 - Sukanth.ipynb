{
 "cells": [
  {
   "cell_type": "markdown",
   "metadata": {},
   "source": [
    "# Part A"
   ]
  },
  {
   "cell_type": "markdown",
   "metadata": {},
   "source": [
    "1 - A) Write a python program to find the factorial of given input"
   ]
  },
  {
   "cell_type": "code",
   "execution_count": 10,
   "metadata": {},
   "outputs": [
    {
     "name": "stdout",
     "output_type": "stream",
     "text": [
      "Factorial of 12 is :  479001600\n"
     ]
    }
   ],
   "source": [
    "'''\n",
    "FUNCTION factorial(n):\n",
    "    IF n <= 1:\n",
    "        RETURN 1\n",
    "    INITIALIZE fact = 1\n",
    "    FOR (i=n; i>1; i--):\n",
    "        fact = fact * i\n",
    "    RETURN fact\n",
    "\n",
    "MAIN():\n",
    "    READ n\n",
    "    PRINT(factorial(n))\n",
    "'''\n",
    "\n",
    "\n",
    "\n",
    "def factorial(n):\n",
    "    if n <= 1:\n",
    "        return 1\n",
    "    fact = 1\n",
    "    for i in range(n,1,-1):\n",
    "        fact = fact * i\n",
    "    return fact\n",
    "\n",
    "\n",
    "n = int(input(\"Enter a number: \"))\n",
    "print(f\"Factorial of {n} is : \",factorial(n))"
   ]
  },
  {
   "cell_type": "markdown",
   "metadata": {},
   "source": [
    "1-B) Write a python program to find whether given input is armstrong or not"
   ]
  },
  {
   "cell_type": "code",
   "execution_count": 21,
   "metadata": {},
   "outputs": [
    {
     "name": "stdout",
     "output_type": "stream",
     "text": [
      "153 is an Armstrong Number.\n"
     ]
    }
   ],
   "source": [
    "'''\n",
    "FUNCTION armstrong(n):\n",
    "    INITIALIZE num, sum_ , poww = n, 0, len(str(n))\n",
    "    WHILE n > 0:\n",
    "        rem = n % 10\n",
    "        sum_ = sum_ + rem**poww\n",
    "        n //= 10\n",
    "    IF sum_ == num:\n",
    "        PRINT \"Armstrong Number\"\n",
    "    ELSE:\n",
    "        PRINT \"Not Armstrong Number\"\n",
    "\n",
    "MAIN():\n",
    "    READ n\n",
    "    armstrong(n)\n",
    "'''\n",
    "\n",
    "\n",
    "def armstrong(n):\n",
    "    num = n\n",
    "    sum_ = 0\n",
    "    poww = len(str(n))\n",
    "    \n",
    "    while n > 0:\n",
    "        rem = n % 10\n",
    "        sum_ = sum_ + rem**poww\n",
    "        n //= 10\n",
    "    \n",
    "    if sum_ == num:\n",
    "        print(f\"{num} is an Armstrong Number.\")\n",
    "    else:\n",
    "        print(f\"{num} is not an Armstrong Number.\")\n",
    "\n",
    "n = int(input(\"Enter a number : \"))\n",
    "armstrong(n)"
   ]
  },
  {
   "cell_type": "markdown",
   "metadata": {},
   "source": [
    "2 - A) Print the following pattern:\n",
    "\n",
    "\n"
   ]
  },
  {
   "cell_type": "code",
   "execution_count": 27,
   "metadata": {},
   "outputs": [
    {
     "name": "stdout",
     "output_type": "stream",
     "text": [
      "1\n",
      "10\n",
      "101\n",
      "1010\n",
      "10101\n"
     ]
    }
   ],
   "source": [
    "# 1\n",
    "# 10\n",
    "# 101\n",
    "# 1010\n",
    "# 10101\n",
    "\n",
    "#Start from here \n",
    "\n",
    "'''\n",
    "FUNCTION pattern1(n):\n",
    "    FOR(i=1; i<=5; i++):\n",
    "        FOR(j=1; j<=i; j++):\n",
    "            IF j % 2 == 1:\n",
    "                PRINT('1', end='')\n",
    "            ELSE:\n",
    "                PRINT('0', end='')\n",
    "        PRINT('\\n')\n",
    "\n",
    "MAIN():\n",
    "    READ n\n",
    "    pattern1(n)      \n",
    "'''\n",
    "\n",
    "def pattern1(n):\n",
    "    for i in range(1,n+1):\n",
    "        for j in range(1,i+1):\n",
    "            if j % 2 == 1:\n",
    "                print('1', end='')\n",
    "            else:\n",
    "                print('0', end='')\n",
    "        print()\n",
    "\n",
    "n = int(input(\"Enter limit: \"))\n",
    "pattern1(n)"
   ]
  },
  {
   "cell_type": "markdown",
   "metadata": {},
   "source": [
    "2-B"
   ]
  },
  {
   "cell_type": "code",
   "execution_count": 37,
   "metadata": {},
   "outputs": [
    {
     "name": "stdout",
     "output_type": "stream",
     "text": [
      "1\n",
      "212\n",
      "32123\n",
      "4321234\n",
      "543212345\n"
     ]
    }
   ],
   "source": [
    "# 1\n",
    "# 212\n",
    "# 32123\n",
    "# 4321234\n",
    "# 543212345\n",
    "\n",
    "'''\n",
    "FUNCTION pattern2(n):\n",
    "    FOR(i=1; i<=n; i++):\n",
    "        FOR(j=i; j>0; j--):\n",
    "            PRINT(j, end='')\n",
    "        FOR(k=2; k<=i; k++):\n",
    "            PRINT(k, end='')\n",
    "        PRINT('\\n')\n",
    "\n",
    "MAIN():\n",
    "    READ n\n",
    "    pattern(n)\n",
    "'''\n",
    "\n",
    "\n",
    "def pattern2(n):\n",
    "    for i in range(1,n+1):\n",
    "        for j in range(i,0,-1): #left part\n",
    "            print(j, end='')\n",
    "        for k in range(2,i+1):  #right part\n",
    "            print(k, end='')\n",
    "        print()\n",
    "\n",
    "n = int(input('Enter limit : '))\n",
    "pattern2(n)"
   ]
  },
  {
   "cell_type": "markdown",
   "metadata": {},
   "source": [
    "3 - A) Develop a Python script that takes a list of strings, swaps the first and last characters of each string, and outputs the modified list."
   ]
  },
  {
   "cell_type": "code",
   "execution_count": 50,
   "metadata": {},
   "outputs": [
    {
     "name": "stdout",
     "output_type": "stream",
     "text": [
      "Original List:  ['hello', 'world', 'welcome', 'to', 'python']\n",
      "Modified List:  ['oellh', 'dorlw', 'eelcomw', 'ot', 'nythop']\n"
     ]
    }
   ],
   "source": [
    "'''\n",
    "FUNCTION modify_list(myList):\n",
    "    FOR(i=0; i<len(myList); i++):\n",
    "        end_index = len(myList[i]) - 1\n",
    "        myList[i] = myList[i][end_index:]+myList[i][1:end_index]+myList[i][0]  #String Slicing\n",
    "    RETURN myList\n",
    "\n",
    "MAIN():\n",
    "    INITIALIZE myList = ['hello', 'world', 'welcome', 'to', 'python']\n",
    "    PRINT('Original List: ', myList)\n",
    "    PRINT('Modified List: ', modify_list(myList))\n",
    "'''\n",
    "\n",
    "def modify_list(myList):\n",
    "    for i in range(len(myList)):\n",
    "        end_index = len(myList[i])-1\n",
    "        myList[i] = myList[i][end_index:]+myList[i][1:end_index]+myList[i][0]\n",
    "        \n",
    "    return myList\n",
    "\n",
    "myList = ['hello', 'world', 'welcome', 'to', 'python']\n",
    "print('Original List: ', myList)\n",
    "print('Modified List: ', modify_list(myList))"
   ]
  },
  {
   "cell_type": "markdown",
   "metadata": {},
   "source": [
    "3 - B) Develop a Python function that reverses the order of elements in a list and prints both the original and reversed lists."
   ]
  },
  {
   "cell_type": "code",
   "execution_count": 55,
   "metadata": {},
   "outputs": [
    {
     "name": "stdout",
     "output_type": "stream",
     "text": [
      "Original List:  [1, 2, 3, 4, 5]\n",
      "Reversed List:  [5, 4, 3, 2, 1]\n"
     ]
    }
   ],
   "source": [
    "'''\n",
    "FUNCTION reverse_list(myList):\n",
    "    INITIALIZE n = len(myList)\n",
    "    INITIALIZE rev_list = []    #New Empty List\n",
    "    FOR(i=n-1; i>-1; i--):\n",
    "        rev_list.append(myList[i])\n",
    "    RETURN rev_list\n",
    "\n",
    "MAIN():\n",
    "    INITIALIZE myList = [1, 2, 3, 4, 5]\n",
    "    PRINT('Original List: ', myList)\n",
    "    PRINT('Reversed List: ', reverse_list(myList))\n",
    "'''\n",
    "\n",
    "def reverse_list(myList):\n",
    "    n = len(myList)\n",
    "    rev_list = []\n",
    "    for i in range(n-1, -1, -1):\n",
    "        rev_list.append(myList[i])\n",
    "    return rev_list\n",
    "\n",
    "myList = [1, 2, 3, 4, 5]\n",
    "print('Original List: ', myList)\n",
    "print('Reversed List: ', reverse_list(myList))"
   ]
  },
  {
   "cell_type": "markdown",
   "metadata": {},
   "source": [
    "4 - A) Write a python program that meets the followimg conditions\n",
    "    "
   ]
  },
  {
   "cell_type": "code",
   "execution_count": 73,
   "metadata": {},
   "outputs": [
    {
     "name": "stdout",
     "output_type": "stream",
     "text": [
      "Greatest Prime Number in List1:  17\n",
      "Greatest Even Number in List2:  30\n",
      "Sum of 151 --> 7 is a Prime Number\n"
     ]
    }
   ],
   "source": [
    "# 1- Create two list \n",
    "# list1 = [11, 13, 17, 22, 25]\n",
    "# list2 = [4, 8, 15, 23, 30]\n",
    "# 2-Find The Greatest prime number in the first list\n",
    "# 3-Find the greatest even number in the second list\n",
    "# 4-Print the sum of the digits and whether it is prime or not.\n",
    "\n",
    "'''\n",
    "FUNCTION greatest_prime(list1):\n",
    "    INITIALIZE big, flag = 0, True\n",
    "    FOR each in list1:\n",
    "        FOR(j=2; j<each; j++):\n",
    "            if each % j == 0:\n",
    "                flag = False\n",
    "        if flag == True:\n",
    "            if each > big:\n",
    "                big = each\n",
    "    if big == 0:\n",
    "        RETURN 'No Prime Exists'\n",
    "    RETURN big\n",
    "\n",
    "FUNCTION greatest_even(list2):\n",
    "    INITIALIZE big = -1\n",
    "    FOR each in list2:\n",
    "        IF each % 2 == 0:\n",
    "            IF each > big:\n",
    "                big = each\n",
    "    IF big == -1:\n",
    "        RETURN 'No Even Exists'\n",
    "    RETURN big\n",
    "\n",
    "FUNCTION sum_of_digits(num):\n",
    "    INITIALIZE n = num, sum_ = 0\n",
    "    WHILE n > 0:\n",
    "        rem = n % 10\n",
    "        sum_ = sum_ + rem\n",
    "        n //= 10\n",
    "    FOR(i=2; i<sum_; i++):\n",
    "        IF sum_ % 2 == 0:\n",
    "            RETURN f'Sum of {num} --> {sum_} is not a Prime number'\n",
    "    RETURN f'Sum of {num} --> {sum_} is a Prime Number'\n",
    "\n",
    "\n",
    "MAIN():\n",
    "    INITIALIZE list1 = [11, 13, 17, 22, 25]\n",
    "    INITIALIZE list2 = [4, 8, 15, 23, 30]\n",
    "    READ num\n",
    "    PRINT('Greatest Prime: ', greatest_prime(list1))\n",
    "    PRINT('Greatest Even: ', greatest_even(list2))\n",
    "    PRINT(sum_of_digits(num))\n",
    "    \n",
    "'''\n",
    "\n",
    "def greatest_prime(list1):\n",
    "    big = 0\n",
    "    flag = True\n",
    "    for i in list1:\n",
    "        for j in range(2,i):\n",
    "            if i % j == 0:\n",
    "                flag = False\n",
    "        if flag == True:\n",
    "            if i > big:\n",
    "                big = i\n",
    "    if big == 0:\n",
    "        return 'No Prime Number Exists...'\n",
    "    return big\n",
    "                \n",
    "def greatest_even(list2):\n",
    "    big = -1\n",
    "    for i in list2:\n",
    "        if i % 2 == 0:\n",
    "            if i > big:\n",
    "                big = i\n",
    "    if big == -1:\n",
    "        return 'No Even Number Exists...'\n",
    "    return big\n",
    "\n",
    "def sum_of_digits(num):\n",
    "    n = num\n",
    "    sum_ = 0\n",
    "    while n > 0:\n",
    "        rem = n % 10\n",
    "        sum_ = sum_ + rem\n",
    "        n //= 10\n",
    "    for i in range(2, sum_):\n",
    "        if sum_ % 2 == 0:\n",
    "            return f'Sum of {num} --> {sum_} is not a Prime number'\n",
    "    return f'Sum of {num} --> {sum_} is a Prime Number'\n",
    "\n",
    "list1 = [11, 13, 17, 22, 25]\n",
    "list2 = [4, 8, 15, 23, 30]\n",
    "\n",
    "num = int(input(\"Enter a number : \"))\n",
    "\n",
    "print('Greatest Prime Number in List1: ', greatest_prime(list1))\n",
    "print('Greatest Even Number in List2: ', greatest_even(list2))\n",
    "print(sum_of_digits(num))\n"
   ]
  },
  {
   "cell_type": "markdown",
   "metadata": {},
   "source": [
    "4 = B) Create a function to find the fibnocci series of given length"
   ]
  },
  {
   "cell_type": "code",
   "execution_count": 94,
   "metadata": {},
   "outputs": [
    {
     "name": "stdout",
     "output_type": "stream",
     "text": [
      "Fibonacci Series of length 5:  0 1 1 2 3 "
     ]
    }
   ],
   "source": [
    "'''\n",
    "FUNCTION fibo(n):\n",
    "    INITIALIZE f1, f2 = 0, 1\n",
    "    IF n <= 1:\n",
    "        PRINT(f1)\n",
    "    ELSE:\n",
    "        PRINT(f'{f1} {f2} ', end='')\n",
    "    FOR(i=2; i<n; i++):\n",
    "        INITIALIZE f3 = f1 + f2\n",
    "        f1 = f2\n",
    "        f2 = f3\n",
    "        PRINT(f3, end=' ')\n",
    "\n",
    "MAIN():\n",
    "    READ n\n",
    "    fibo(n)\n",
    "'''\n",
    "\n",
    "def fibo(n):\n",
    "    f1 = 0\n",
    "    f2 = 1\n",
    "    if n <= 1:\n",
    "        print(f1)\n",
    "    else:\n",
    "        print( f'Fibonacci Series of length {n}:  {f1} {f2} ', end='')\n",
    "    for i in range(2, n):\n",
    "        f3 = f1+f2\n",
    "        f1 = f2\n",
    "        f2 = f3\n",
    "        print(f3, end=' ')\n",
    "\n",
    "n = int(input(\"Enter n : \"))\n",
    "fibo(n)\n"
   ]
  },
  {
   "cell_type": "markdown",
   "metadata": {},
   "source": [
    "# Part B\n"
   ]
  },
  {
   "cell_type": "markdown",
   "metadata": {},
   "source": [
    "1 - Write a python program that performs the various operations given below in list"
   ]
  },
  {
   "cell_type": "code",
   "execution_count": null,
   "metadata": {},
   "outputs": [],
   "source": [
    "# Write a function named modify_list(data) that takes a list as input.\n",
    "# 2. List Operations:\n",
    "\n",
    "# Initialization: Start with a list named data containing the values: [5, 7, 9, 14, 21].\n",
    "# Append and Prepend:\n",
    "# Append the value 20 to the end of the list.\n",
    "# Prepend the value 3 to the beginning of the list.\n",
    "# Remove Elements:\n",
    "# Remove the element with the value 14 using the remove() method.\n",
    "# Remove the element at index 2 (second element) using slicing syntax (del data[index]).\n",
    "# Square Elements:\n",
    "# Create a new list named squared_data that contains the squares of each element in data.\n",
    "# You can use a list comprehension or a loop for this operation.\n",
    "# Check for Sublist:\n",
    "# Use slicing and comparison to check if the sublist [7, 9] exists within data. Print an appropriate message based on the outcome.\n",
    "# Insert Element:\n",
    "# Insert the value 12 at index 1 (second position) using slicing syntax (data.insert(index, value))"
   ]
  },
  {
   "cell_type": "code",
   "execution_count": 104,
   "metadata": {},
   "outputs": [
    {
     "name": "stdout",
     "output_type": "stream",
     "text": [
      "Append 20:  [5, 7, 9, 14, 21, 20]\n",
      "Prepend 3:  [3, 5, 7, 9, 14, 21, 20]\n",
      "Remove 14:  [3, 5, 7, 9, 21, 20]\n",
      "Remove Second Element:  [3, 7, 9, 21, 20]\n",
      "Square of Original List:  [9, 49, 81, 441, 400]\n",
      "Sublist [7, 9] Exists in Original List...\n",
      "Insert 12 at index 1:  [3, 12, 7, 9, 21, 20]\n"
     ]
    }
   ],
   "source": [
    "'''\n",
    "FUNCTION modify_list_data(data):\n",
    "    data.append(20)\n",
    "    data.insert(0,3)\n",
    "    data.remove(14)\n",
    "    del data[1]\n",
    "    INIT square_list = [i**2 for i in data]\n",
    "    INIT sub_list = [7, 9]\n",
    "    INIT found = False\n",
    "    FOR(i=0; i<len(data)-2; i++):\n",
    "        extract = data[i:i+2]\n",
    "        IF extract == sub_list:\n",
    "            UPDATE found = True\n",
    "            PRINT(\"Sublist [7, 9] Exists in Original List...\")\n",
    "    IF found == False:\n",
    "        PRINT(\"Sublist [7, 9] does not exists in original list...\")        \n",
    "    data.insert(1, 12)\n",
    "\n",
    "MAIN():\n",
    "    INIT data = [5, 7, 9, 14, 21]\n",
    "    modify_list_data(data)\n",
    "'''\n",
    "\n",
    "# start from here\n",
    "def modify_list_data(data):\n",
    "\n",
    "    data.append(20)\n",
    "    print(\"Append 20: \", data)\n",
    "\n",
    "    data.insert(0,3)\n",
    "    print(\"Prepend 3: \", data)\n",
    "\n",
    "    data.remove(14)\n",
    "    print(\"Remove 14: \", data)\n",
    "\n",
    "    del data[1]\n",
    "    print(\"Remove Second Element: \", data)\n",
    "\n",
    "    square_list = [i**2 for i in data]\n",
    "    print(\"Square of Original List: \", square_list)\n",
    "\n",
    "    sub_list = [7, 9]\n",
    "    found = False\n",
    "    for i in range(len(data)-1):\n",
    "        extract = data[i:i+2]\n",
    "        if extract == sub_list:\n",
    "            found = True\n",
    "            print(\"Sublist [7, 9] Exists in Original List...\")\n",
    "    if found == False:\n",
    "        print(\"Sublist [7, 9] does not exists in original list...\")\n",
    "        \n",
    "    data.insert(1, 12)\n",
    "    print(\"Insert 12 at index 1: \", data)\n",
    "\n",
    "\n",
    "data = [5, 7, 9, 14, 21]\n",
    "modify_list_data(data)"
   ]
  },
  {
   "cell_type": "markdown",
   "metadata": {},
   "source": [
    "2- Create functions for the given questions"
   ]
  },
  {
   "cell_type": "code",
   "execution_count": null,
   "metadata": {},
   "outputs": [],
   "source": [
    "'''\n",
    "FUNCTION bubbleSort(l):\n",
    "    INIT n = len(l)\n",
    "    INIT swap = False\n",
    "    FOR(i=0; i<n; i++):\n",
    "        FOR(j=0; j<n-i-1; j++):\n",
    "             IF l[j] > l[j+1]\n",
    "                SWAP(l[j], l[j+1])\n",
    "                UPDATE swap = True\n",
    "        IF swap == False:\n",
    "            RETURN l\n",
    "    RETURN l\n",
    "'''"
   ]
  },
  {
   "cell_type": "code",
   "execution_count": 114,
   "metadata": {},
   "outputs": [
    {
     "name": "stdout",
     "output_type": "stream",
     "text": [
      "Original Array:  [1, 3, 2, 7, 4]\n",
      "Sorted Array:  [1, 2, 3, 4, 7]\n"
     ]
    }
   ],
   "source": [
    "# Write a function to implement Bubble Sort\n",
    "def bubbleSort(l):\n",
    "    n = len(l)\n",
    "    swap = False\n",
    "    for i in range(n):\n",
    "        for j in range(n-i-1):\n",
    "            if l[j] > l[j+1]:\n",
    "                swap = True\n",
    "                l[j], l[j+1] = l[j+1], l[j]\n",
    "        if swap == False:\n",
    "            return l\n",
    "    print(\"Sorted Array: \", l)\n",
    "\n",
    "l = [1, 3, 2, 7, 4]\n",
    "print(\"Original Array: \", l)\n",
    "bubbleSort(l)"
   ]
  },
  {
   "cell_type": "code",
   "execution_count": 121,
   "metadata": {},
   "outputs": [
    {
     "name": "stdout",
     "output_type": "stream",
     "text": [
      "Original Array:  [2, 3, 9, 5, 1]\n",
      "Sorted Array: [1, 2, 3, 5, 9]\n"
     ]
    }
   ],
   "source": [
    "# Write a function to implement Selection Sort\n",
    "\n",
    "'''\n",
    "FUNCTION selectionSort(arr):\n",
    "    INIT n = len(arr)\n",
    "    FOR(i=0; i<n; i++):\n",
    "        SET min_index = i\n",
    "        FOR(j=i+1; j<n; j++):\n",
    "            IF arr[j] < arr[min_index]:\n",
    "                UPDATE min_index = j\n",
    "        SWAP(arr[i], arr[min_index])\n",
    "    RETURN arr\n",
    "'''\n",
    "\n",
    "def selectionSort(arr):\n",
    "    n = len(arr)\n",
    "    for i in range(n):\n",
    "        min_index = i\n",
    "        for j in range(i+1, n):\n",
    "            if arr[j] < arr[min_index]:\n",
    "                min_index = j\n",
    "        arr[i], arr[min_index] = arr[min_index], arr[i]\n",
    "    print(\"Sorted Array:\",arr)\n",
    "\n",
    "l = [2, 3, 9, 5, 1]\n",
    "print(\"Original Array: \", l)\n",
    "selectionSort(l)\n",
    "        "
   ]
  },
  {
   "cell_type": "code",
   "execution_count": 119,
   "metadata": {},
   "outputs": [
    {
     "name": "stdout",
     "output_type": "stream",
     "text": [
      "Original Array:  [10, 3, 9, 6, 1]\n",
      "Sorted Array: [1, 3, 6, 9, 10]\n"
     ]
    }
   ],
   "source": [
    "# Write a function to implement Insertion Sort\n",
    "\n",
    "'''\n",
    "FUNCTION insertionSort(arr):\n",
    "    INIT n = len(arr)\n",
    "    FOR(i=1; i<n; i++):\n",
    "        SET key = arr[i]\n",
    "        SET j = i-1\n",
    "        WHILE j>=0 && key<arr[j]:\n",
    "            arr[j+1] arr[j]\n",
    "            j -= 1\n",
    "        arr[j+1] = key\n",
    "    RETURN arr\n",
    "'''\n",
    "\n",
    "def insertionSort(arr):\n",
    "    n = len(arr)\n",
    "    for i in range(1,n):\n",
    "        key = arr[i]\n",
    "        j = i-1\n",
    "        while j>=0 and key<arr[j]:\n",
    "            arr[j+1] = arr[j]\n",
    "            j-=1\n",
    "        arr[j+1] = key\n",
    "    print(\"Sorted Array:\",arr)\n",
    "\n",
    "l = [10, 3, 9, 6, 1]\n",
    "print(\"Original Array: \", l)\n",
    "selectionSort(l)"
   ]
  },
  {
   "cell_type": "code",
   "execution_count": 120,
   "metadata": {},
   "outputs": [
    {
     "name": "stdout",
     "output_type": "stream",
     "text": [
      "Original Mixed List:  ['hi', 1, 6, 3, 'break', 'apple']\n",
      "Sorted Mixed List:  [1, 3, 6, 'apple', 'break', 'hi']\n"
     ]
    }
   ],
   "source": [
    "# Implement the Insertion Sort algorithm in Python for sorting a\n",
    "# list of mixed data types (numbers and strings) in ascending order. Analyze\n",
    "# its time complexity\n",
    "\n",
    "'''\n",
    "FUNCTION insertionSort(arr):\n",
    "    INIT n = len(arr)\n",
    "    FOR(i=1; i<n; i++):\n",
    "        SET key = arr[i]\n",
    "        SET j = i-1\n",
    "        WHILE j>=0 && key<arr[j]:\n",
    "            arr[j+1] arr[j]\n",
    "            j -= 1\n",
    "        arr[j+1] = key\n",
    "    RETURN arr\n",
    "\n",
    "MAIN():\n",
    "    INIT l = ['hi', 1, 6, 3, 'break', 'apple']\n",
    "    INIT int_list = str_list = []    #Empty List\n",
    "    FOR each in l:\n",
    "        IF type(each) == str:\n",
    "            str_list.append(i)\n",
    "        else:\n",
    "            int_list.append(i)\n",
    "    SET sorted_int_list = insertionSort(int_list)\n",
    "    SET sorted_str_list = insertionSort(str_list)\n",
    "    SET merge_list = sorted_int_list + sorted_str_list\n",
    "    PRINT(merge_list)\n",
    "'''\n",
    "\n",
    "def insertionSort(arr):\n",
    "    n = len(arr)\n",
    "    for i in range(1,n):\n",
    "        key = arr[i]\n",
    "        j = i-1\n",
    "        while j>=0 and key<arr[j]:\n",
    "            arr[j+1] = arr[j]\n",
    "            j-=1\n",
    "        arr[j+1] = key\n",
    "    return arr\n",
    "\n",
    "l = ['hi', 1, 6, 3, 'break', 'apple']\n",
    "print(\"Original Mixed List: \", l)\n",
    "int_list = []\n",
    "str_list = []\n",
    "\n",
    "for i in l:\n",
    "    if type(i) == str:\n",
    "        str_list.append(i)\n",
    "    elif type(i) == int:\n",
    "        int_list.append(i)\n",
    "\n",
    "# print(int_list, str_list)\n",
    "sorted_int_list = insertionSort(int_list)\n",
    "sorted_str_list = insertionSort(str_list)\n",
    "merged_list = sorted_int_list + sorted_str_list\n",
    "print(\"Sorted Mixed List: \", merged_list)\n",
    "\n",
    "# The time complexity of this algorithm will be O(n**2).\n",
    "# Because while sorting using the insertion sort, we traverse till the end of the array iteratively by comparing each elements."
   ]
  },
  {
   "cell_type": "markdown",
   "metadata": {},
   "source": [
    "3 - Write Python program to perform the various operations given below"
   ]
  },
  {
   "cell_type": "code",
   "execution_count": 106,
   "metadata": {},
   "outputs": [
    {
     "name": "stdout",
     "output_type": "stream",
     "text": [
      "Original List of Dictionaries:-\n",
      "[{'task_name': 'task1', 'start_time': '8:00 PM', 'duration': 10}, {'task_name': 'task2', 'start_time': '4:00 AM', 'duration': 15}, {'task_name': 'task3', 'start_time': '3:15 PM', 'duration': 20}, {'task_name': 'task4', 'start_time': '10:45 AM', 'duration': 5}]\n",
      "\n",
      "Filtered List of Dictionaries with threshold 10 minutes:-\n",
      "[{'task_name': 'task2', 'start_time': '4:00 AM', 'duration': 15}, {'task_name': 'task3', 'start_time': '3:15 PM', 'duration': 20}]\n"
     ]
    }
   ],
   "source": [
    "# You have a list of dictionaries, where each dictionary represents a task with details like task name, \n",
    "# start time, and duration. \n",
    "# Write a Python function called filter_long_tasks that takes this list of task dictionaries and a duration threshold in minutes as input \n",
    "# and returns a new list containing only the tasks that took longer than the specified threshold to complete.\n",
    "\n",
    "'''\n",
    "FUNCTION fileter_long_tasks(myList, thres):\n",
    "    INIT res = []\n",
    "    FOR each in myList:\n",
    "        IF each.get('duration') > thres:\n",
    "            res.append(i)\n",
    "    RETURN res\n",
    "\n",
    "MAIN():\n",
    "    INIT myList = [{'task_name':'task1','start_time':'8:00 PM', 'duration':10},\n",
    "          {'task_name':'task2','start_time':'4:00 AM', 'duration':15},\n",
    "          {'task_name':'task3','start_time':'3:15 PM', 'duration':20},\n",
    "          {'task_name':'task4','start_time':'10:45 AM', 'duration':5}]\n",
    "    INIT thres = 10\n",
    "    PRINT(filter_long_tasks(myList,thres))\n",
    "'''\n",
    "\n",
    "def filter_long_tasks(myList, thres):\n",
    "    res = []\n",
    "    for i in myList:\n",
    "        if i.get('duration') > thres:\n",
    "            res.append(i)\n",
    "    return res\n",
    "\n",
    "myList = [{'task_name':'task1','start_time':'8:00 PM', 'duration':10},\n",
    "          {'task_name':'task2','start_time':'4:00 AM', 'duration':15},\n",
    "          {'task_name':'task3','start_time':'3:15 PM', 'duration':20},\n",
    "          {'task_name':'task4','start_time':'10:45 AM', 'duration':5}]\n",
    "thres = 10\n",
    "print(\"Original List of Dictionaries:-\")\n",
    "print(myList)\n",
    "\n",
    "print(\"\\nFiltered List of Dictionaries with threshold 10 minutes:-\")\n",
    "print(filter_long_tasks(myList, thres))\n",
    "\n"
   ]
  },
  {
   "cell_type": "code",
   "execution_count": 108,
   "metadata": {},
   "outputs": [
    {
     "name": "stdout",
     "output_type": "stream",
     "text": [
      "String :  hello\n",
      "Result :  {'h': 1, 'e': 1, 'l': 2, 'o': 1}\n"
     ]
    }
   ],
   "source": [
    "# Write a Python function called count_words that takes a string as input and returns a dictionary.\n",
    "# The keys of the dictionary should be unique words in the string (converted to lowercase), \n",
    "# and the values should be the corresponding word counts.\n",
    "\n",
    "'''\n",
    "FUNCTION count_words(s):\n",
    "    INIT hmap = {}\n",
    "    FOR each in s:\n",
    "        IF each in hmap:\n",
    "            hmap[each] += 1\n",
    "        ELSE:\n",
    "            hmap[each] = 1\n",
    "    RETURN hmap\n",
    "\n",
    "MAIN():\n",
    "    READ string\n",
    "    UPDATE string = string.lower()\n",
    "    PRINT(count_words(string))\n",
    "'''\n",
    "\n",
    "def count_words(s):\n",
    "    hmap = {}\n",
    "    for i in s:\n",
    "        if i in hmap:\n",
    "            hmap[i] += 1\n",
    "        if i not in hmap:\n",
    "            hmap[i] = 1\n",
    "    return hmap\n",
    "\n",
    "string = input(\"Enter a word: \")\n",
    "string = string.lower()\n",
    "print(\"String : \", string)\n",
    "print(\"Result : \", count_words(string))"
   ]
  },
  {
   "cell_type": "code",
   "execution_count": null,
   "metadata": {},
   "outputs": [],
   "source": []
  }
 ],
 "metadata": {
  "kernelspec": {
   "display_name": "Python 3",
   "language": "python",
   "name": "python3"
  },
  "language_info": {
   "codemirror_mode": {
    "name": "ipython",
    "version": 3
   },
   "file_extension": ".py",
   "mimetype": "text/x-python",
   "name": "python",
   "nbconvert_exporter": "python",
   "pygments_lexer": "ipython3",
   "version": "3.11.5"
  }
 },
 "nbformat": 4,
 "nbformat_minor": 2
}
