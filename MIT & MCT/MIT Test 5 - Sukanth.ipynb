{
 "cells": [
  {
   "cell_type": "markdown",
   "id": "230a0a38",
   "metadata": {},
   "source": [
    " Given an array arr[] of size n and an integer X.\n",
    " \n",
    "  Find if there’s a triplet in the array which sums up to the given integer X.\n",
    "\n",
    "Input: arr = [12,3,4,1,6,9], X = 24\n",
    "Output: 12,3,9\n",
    "\n",
    "Input: arr = [1,2,3,4,5], X = 9\n",
    "Output: 1,3,5"
   ]
  },
  {
   "cell_type": "code",
   "execution_count": 8,
   "id": "871ff3b0",
   "metadata": {},
   "outputs": [
    {
     "name": "stdout",
     "output_type": "stream",
     "text": [
      "[12, 3, 9]\n",
      "[1, 3, 5]\n"
     ]
    }
   ],
   "source": [
    "def find_triplet(arr, x):\n",
    "    n = len(arr)\n",
    "    res = []\n",
    "    for i in range(n):\n",
    "        for j in range(i+1, n):\n",
    "            for k in range(j+1, n):\n",
    "                if arr[i] + arr[j] + arr[k] == x:\n",
    "                    res.append([arr[i],arr[j],arr[k]])\n",
    "                    return res[0]\n",
    "    return -1\n",
    "\n",
    "# Test case 1\n",
    "arr = [12,3,4,1,6,9]\n",
    "x = 24\n",
    "print(find_triplet(arr, x))\n",
    "\n",
    "# Test case 2\n",
    "arr = [1,2,3,4,5]\n",
    "x = 9\n",
    "print(find_triplet(arr,x))"
   ]
  },
  {
   "cell_type": "markdown",
   "id": "f3087867",
   "metadata": {},
   "source": [
    "Given two linked list insert nodes of second list into first list at alternate positions of first list. \n",
    "\n",
    "For example, if first list is 5->7->17->13->11 and second is 12->10->2->4->6,\n",
    "\n",
    " the first list should become 5->12->7->10->17->2->13->4->11->6 and\n",
    " \n",
    "  second list should become empty. So, for this question first make two lists list1 and list2. \n",
    "  \n",
    "  Then in output merge them.\n",
    "\n",
    "Input: list1: 3->7->9 , list2: 8->12\n",
    "Output: 3->8->7->12->9\n",
    "\n",
    "Input: list1: 5->9, list2: 4->11->15\n",
    " Output: 5->4->9->11->15\n"
   ]
  },
  {
   "cell_type": "code",
   "execution_count": 47,
   "id": "94c68ef3",
   "metadata": {},
   "outputs": [],
   "source": [
    "class Node:\n",
    "    def __init__(self, val=0):\n",
    "        self.val = val\n",
    "        self.next = None\n",
    "        self.prev = None\n",
    "\n",
    "class LinkedList:\n",
    "    def __init__(self):\n",
    "        self.head = None\n",
    "    \n",
    "    def insertNode(self, val):\n",
    "        node = Node(val)\n",
    "        if self.head is None:\n",
    "            self.head = node\n",
    "            return\n",
    "        temp = self.head\n",
    "        while temp.next is not None:\n",
    "            temp = temp.next\n",
    "        temp.next = node\n",
    "        node.prev = temp\n",
    "\n",
    "    def merge_ll(self, l2_head):\n",
    "        l1_temp = self.head\n",
    "        \n",
    "        while l1_temp.next is not None and l2_head is not None:\n",
    "            l2_node = Node(l2_head.val)\n",
    "            l2_node.next = l1_temp.next\n",
    "            l1_temp.next.prev = l2_node\n",
    "            l1_temp.next = l2_node\n",
    "            l2_node.prev = l1_temp\n",
    "            l1_temp = l1_temp.next.next\n",
    "            l2_head = l2_head.next\n",
    "        \n",
    "        if l1_temp.next is None and l2_head is not None:\n",
    "            l1_temp.next = l2_head\n",
    "            l2_head = None\n",
    "            \n",
    "\n",
    "    def displayLL(self):\n",
    "        if self.head is None:\n",
    "            print(\"Head node is not initialized!\")\n",
    "            return\n",
    "        temp = self.head\n",
    "        while temp is not None:\n",
    "            if temp.next is not None:\n",
    "                print(temp.val, end=\"->\")\n",
    "            else:\n",
    "                print(temp.val)\n",
    "            temp = temp.next"
   ]
  },
  {
   "cell_type": "code",
   "execution_count": 48,
   "id": "b5811064",
   "metadata": {},
   "outputs": [
    {
     "name": "stdout",
     "output_type": "stream",
     "text": [
      "LinkedList1: 3->7->9\n",
      "LinkedList2: 8->12\n",
      "3->8->7->12->9\n"
     ]
    }
   ],
   "source": [
    "# Test Case 1\n",
    "\n",
    "l1 = LinkedList()\n",
    "l1.insertNode(3)\n",
    "l1.insertNode(7)\n",
    "l1.insertNode(9)\n",
    "print(\"LinkedList1: \", end=\"\")\n",
    "l1.displayLL()\n",
    "# -----------------------------------------------\n",
    "l2 = LinkedList()\n",
    "l2.insertNode(8)\n",
    "l2.insertNode(12)\n",
    "print(\"LinkedList2: \", end=\"\")\n",
    "l2.displayLL()\n",
    "# -----------------------------------------------\n",
    "l1.merge_ll(l2.head)\n",
    "l1.displayLL()"
   ]
  },
  {
   "cell_type": "code",
   "execution_count": 49,
   "id": "c20a7f0d",
   "metadata": {},
   "outputs": [
    {
     "name": "stdout",
     "output_type": "stream",
     "text": [
      "LinkedList1: 5->9\n",
      "LinkedList2: 4->11->15\n",
      "5->4->9->11->15\n"
     ]
    }
   ],
   "source": [
    "# Test Case 2\n",
    "l1 = LinkedList()\n",
    "l1.insertNode(5)\n",
    "l1.insertNode(9)\n",
    "print(\"LinkedList1: \", end=\"\")\n",
    "l1.displayLL()\n",
    "# -----------------------------------------------\n",
    "l2 = LinkedList()\n",
    "l2.insertNode(4)\n",
    "l2.insertNode(11)\n",
    "l2.insertNode(15)\n",
    "print(\"LinkedList2: \", end=\"\")\n",
    "l2.displayLL()\n",
    "# ------------------------------------------------\n",
    "l1.merge_ll(l2.head)\n",
    "l1.displayLL()"
   ]
  },
  {
   "cell_type": "markdown",
   "id": "356f21d7",
   "metadata": {},
   "source": [
    "Given a non-negative integer c, \n",
    "\n",
    "decide whether there're two integers a and b such that a2(a square) + b2(b square).\n",
    "\n",
    " Input: c = 5\n",
    "Output: True\n",
    " Explanation: a = 1, b=2 then , c = a2 + b2\n",
    "\n",
    " Input: c= 11\n",
    " Output: False"
   ]
  },
  {
   "cell_type": "code",
   "execution_count": 12,
   "id": "05151419",
   "metadata": {},
   "outputs": [
    {
     "name": "stdout",
     "output_type": "stream",
     "text": [
      "True\n",
      "False\n"
     ]
    }
   ],
   "source": [
    "def square_sum(c):\n",
    "    found = False\n",
    "    for a in range(c//2+1):\n",
    "        for b in range(c//2 + 1):\n",
    "            if a**2 + b**2 == c:\n",
    "                found = True\n",
    "                return found\n",
    "    return found\n",
    "\n",
    "# Test case 1\n",
    "c = 5\n",
    "print(square_sum(c))\n",
    "\n",
    "# Test case 2\n",
    "c = 11\n",
    "print(square_sum(c))"
   ]
  },
  {
   "cell_type": "markdown",
   "id": "38ac3d9c",
   "metadata": {},
   "source": [
    "Implement Slection sort"
   ]
  },
  {
   "cell_type": "code",
   "execution_count": 19,
   "id": "0d0c2502",
   "metadata": {},
   "outputs": [
    {
     "name": "stdout",
     "output_type": "stream",
     "text": [
      "[1, 2, 3, 4, 7]\n"
     ]
    }
   ],
   "source": [
    "def selection_sort(arr):\n",
    "    n = len(arr)\n",
    "    for i in range(n):\n",
    "        min_idx = i\n",
    "        for j in range(i+1, n):\n",
    "            if arr[j] < arr[min_idx]:\n",
    "                min_idx = j\n",
    "        arr[i], arr[min_idx] = arr[min_idx], arr[i]\n",
    "    return arr\n",
    "\n",
    "\n",
    "arr = [4,2,7,3,1]\n",
    "print(selection_sort(arr))"
   ]
  },
  {
   "cell_type": "code",
   "execution_count": null,
   "id": "eb93c0b1",
   "metadata": {},
   "outputs": [],
   "source": []
  }
 ],
 "metadata": {
  "kernelspec": {
   "display_name": "Python 3 (ipykernel)",
   "language": "python",
   "name": "python3"
  },
  "language_info": {
   "codemirror_mode": {
    "name": "ipython",
    "version": 3
   },
   "file_extension": ".py",
   "mimetype": "text/x-python",
   "name": "python",
   "nbconvert_exporter": "python",
   "pygments_lexer": "ipython3",
   "version": "3.11.5"
  }
 },
 "nbformat": 4,
 "nbformat_minor": 5
}
