{
 "cells": [
  {
   "cell_type": "markdown",
   "metadata": {},
   "source": [
    "# MIT Test"
   ]
  },
  {
   "cell_type": "markdown",
   "metadata": {},
   "source": [
    "1- Minimum Window Substring.Given two strings s and t of lengths m and n respectively, return the minimum window \n",
    "substring\n",
    " of s such that every character in t (including duplicates) is included in the window. If there is no such substring, return the empty string \"\"."
   ]
  },
  {
   "cell_type": "code",
   "execution_count": null,
   "metadata": {},
   "outputs": [],
   "source": [
    "# Input: s = \"ADOBECODEBANC\", t = \"ABC\"\n",
    "# Output: \"BANC\"\n",
    "# Explanation: The minimum window substring \"BANC\" includes 'A', 'B', and 'C' from string t.\n",
    "# Input: s = \"a\", t = \"a\"\n",
    "# Output: \"a\"\n",
    "# Explanation: The entire string s is the minimum window.\n",
    "# Input: s = \"a\", t = \"aa\"\n",
    "# Output: \"\"\n",
    "# Explanation: Both 'a's from t must be included in the window.\n",
    "# Since the largest window of s only has one 'a', return empty string."
   ]
  },
  {
   "cell_type": "code",
   "execution_count": 40,
   "metadata": {},
   "outputs": [
    {
     "name": "stdout",
     "output_type": "stream",
     "text": [
      "BANC\n"
     ]
    }
   ],
   "source": [
    "def min_window(s, t):\n",
    "    s_len = len(s)\n",
    "    t_len = len(t)\n",
    "    start = end = 0\n",
    "    min_len = 1000000\n",
    "    min_start = 0\n",
    "    count = 0\n",
    "    t_freq = {}\n",
    "    for char in t:\n",
    "        t_freq[char] = t_freq.get(char, 0) + 1\n",
    "    \n",
    "    while end < s_len:\n",
    "        if s[end] in t_freq:\n",
    "            t_freq[s[end]] -= 1\n",
    "            if t_freq[s[end]] >= 0:\n",
    "                count += 1\n",
    "        \n",
    "        while count == t_len:\n",
    "            if end - start + 1 < min_len:\n",
    "                min_len = end - start + 1\n",
    "                min_start = start\n",
    "            \n",
    "            if s[start] in t_freq:\n",
    "                t_freq[s[start]] += 1\n",
    "                if t_freq[s[start]] > 0:\n",
    "                    count -= 1\n",
    "            start += 1\n",
    "        \n",
    "        end += 1\n",
    "    \n",
    "    if min_len == 1000000:\n",
    "        return \"\"\n",
    "    return s[min_start:min_start+min_len]\n",
    "\n",
    "s = \"ADOBECODEBANC\"\n",
    "t = \"ABC\"\n",
    "print(min_window(s, t))"
   ]
  },
  {
   "cell_type": "markdown",
   "metadata": {},
   "source": [
    "2-  Palindromic Substrings\n",
    "\n",
    "Given a string s, return the number of palindromic substrings in it.\n",
    "\n",
    "A string is a palindrome when it reads the same backward as forward.\n",
    "\n",
    "A substring is a contiguous sequence of characters within the string."
   ]
  },
  {
   "cell_type": "code",
   "execution_count": null,
   "metadata": {},
   "outputs": [],
   "source": [
    "# Example 1:\n",
    "\n",
    "# Input: s = \"abc\"\n",
    "# Output: 3\n",
    "# Explanation: Three palindromic strings: \"a\", \"b\", \"c\".\n",
    "# Example 2:\n",
    "\n",
    "# Input: s = \"aaa\"\n",
    "# Output: 6\n",
    "# Explanation: Six palindromic strings: \"a\", \"a\", \"a\", \"aa\", \"aa\", \"aaa\"."
   ]
  },
  {
   "cell_type": "code",
   "execution_count": 27,
   "metadata": {},
   "outputs": [
    {
     "name": "stdout",
     "output_type": "stream",
     "text": [
      "Output:  ['a', 'aa', 'aaa', 'a', 'aa', 'a']\n"
     ]
    }
   ],
   "source": [
    "def palindrome(s):\n",
    "    res = []\n",
    "    n = len(s)\n",
    "\n",
    "    for i in range(n):\n",
    "        inner = \"\"\n",
    "        for j in range(i,n):\n",
    "            inner += s[j]\n",
    "            rev = inner[::-1]\n",
    "            if inner == rev:\n",
    "                res.append(inner)\n",
    "    \n",
    "    return res\n",
    "\n",
    "s = 'aaa'\n",
    "print(\"Output: \", palindrome(s))"
   ]
  },
  {
   "cell_type": "markdown",
   "metadata": {},
   "source": [
    "3- Merge Sorted Array\n",
    "\n",
    "You are given two integer arrays nums1 and nums2, sorted in non-decreasing order, and two integers m and n, representing the number of elements in nums1 and nums2 respectively.\n",
    "\n",
    "Merge nums1 and nums2 into a single array sorted in non-decreasing order.\n",
    "\n",
    "The final sorted array should not be returned by the function, but instead be stored inside the array nums1. To accommodate this, nums1 has a length of m + n, where the first m elements denote the elements that should be merged, and the last n elements are set to 0 and should be ignored. nums2 has a length of n"
   ]
  },
  {
   "cell_type": "code",
   "execution_count": null,
   "metadata": {},
   "outputs": [],
   "source": [
    "# Example 1:\n",
    "\n",
    "# Input: nums1 = [1,2,3,0,0,0], m = 3, nums2 = [2,5,6], n = 3\n",
    "# Output: [1,2,2,3,5,6]\n",
    "# Explanation: The arrays we are merging are [1,2,3] and [2,5,6].\n",
    "# The result of the merge is [1,2,2,3,5,6] with the underlined elements coming from nums1.\n",
    "# Example 2:\n",
    "\n",
    "# Input: nums1 = [1], m = 1, nums2 = [], n = 0\n",
    "# Output: [1]\n",
    "# Explanation: The arrays we are merging are [1] and [].\n",
    "# The result of the merge is [1].\n",
    "# Example 3:\n",
    "\n",
    "# Input: nums1 = [0], m = 0, nums2 = [1], n = 1\n",
    "# Output: [1]\n",
    "# Explanation: The arrays we are merging are [] and [1].\n",
    "# The result of the merge is [1].\n",
    "# Note that because m = 0, there are no elements in nums1. The 0 is only there to ensure the merge result can fit in nums1."
   ]
  },
  {
   "cell_type": "code",
   "execution_count": 12,
   "metadata": {},
   "outputs": [
    {
     "name": "stdout",
     "output_type": "stream",
     "text": [
      "Sorted Array:  [1, 2, 2, 3, 0, 0, 0, 5, 6]\n"
     ]
    }
   ],
   "source": [
    "def merge_sort(nums1, nums2):\n",
    "    m = len(nums1)\n",
    "    n = len(nums2)\n",
    "\n",
    "    if m == 0 or n == 0:\n",
    "        return nums1 or nums2\n",
    "    \n",
    "    res = []\n",
    "    i = j = 0\n",
    "\n",
    "    while i < m and j < n:\n",
    "        if nums1[i] <= nums2[j]:\n",
    "            res.append(nums1[i])\n",
    "            i += 1\n",
    "        else:\n",
    "            res.append(nums2[j])\n",
    "            j += 1\n",
    "    \n",
    "    while i < m:\n",
    "        res.append(nums1[i])\n",
    "        i += 1\n",
    "    \n",
    "    while j < n:\n",
    "        res.append(nums2[j])\n",
    "        j += 1\n",
    "\n",
    "    return res\n",
    "\n",
    "\n",
    "nums1 = [1,2,3,0,0,0]\n",
    "nums2 = [2,5,6]\n",
    "print(\"Sorted Array: \",merge_sort(nums1, nums2))"
   ]
  },
  {
   "cell_type": "markdown",
   "metadata": {},
   "source": [
    "4- Daily Temperatures\n",
    "\n",
    "Hint\n",
    "Given an array of integers temperatures represents the daily temperatures, return an array answer such that answer[i] is the number of days you have to wait after the ith day to get a warmer temperature. If there is no future day for which this is possible, keep answer[i] == 0 instead."
   ]
  },
  {
   "cell_type": "code",
   "execution_count": null,
   "metadata": {},
   "outputs": [],
   "source": [
    "# Example 1:\n",
    "\n",
    "# Input: temperatures = [73,74,75,71,69,72,76,73]\n",
    "# Output: [1,1,4,2,1,1,0,0]\n",
    "# Example 2:\n",
    "\n",
    "# Input: temperatures = [30,40,50,60]\n",
    "# Output: [1,1,1,0]\n",
    "# Example 3:\n",
    "\n",
    "# Input: temperatures = [30,60,90]\n",
    "# Output: [1,1,0]"
   ]
  },
  {
   "cell_type": "code",
   "execution_count": 17,
   "metadata": {},
   "outputs": [
    {
     "name": "stdout",
     "output_type": "stream",
     "text": [
      "Output:  [1, 1, 4, 2, 1, 1, 0, 0]\n"
     ]
    }
   ],
   "source": [
    "def temp(arr):\n",
    "    n = len(arr)\n",
    "    start = 0\n",
    "    end = 1\n",
    "    res = [0]*n\n",
    "    count = 0\n",
    "    while start < n and end < n:\n",
    "        if end < n:\n",
    "            if arr[start] < arr[end]:\n",
    "                count += 1\n",
    "                res[start] = count\n",
    "                count = 0\n",
    "                start += 1\n",
    "                end = start + 1\n",
    "            elif arr[start] > arr[end]:\n",
    "                count += 1\n",
    "                end += 1\n",
    "    return res\n",
    "arr = [73,74,75,71,69,72,76,73]\n",
    "print(\"Output: \", temp(arr))"
   ]
  },
  {
   "cell_type": "markdown",
   "metadata": {},
   "source": [
    "5- Number of Visible People in a Queue\n",
    "\n",
    "Hint\n",
    "There are n people standing in a queue, and they numbered from 0 to n - 1 in left to right order. You are given an array heights of distinct integers where heights[i] represents the height of the ith person.\n",
    "\n",
    "A person can see another person to their right in the queue if everybody in between is shorter than both of them. More formally, the ith person can see the jth person if i < j and min(heights[i], heights[j]) > max(heights[i+1], heights[i+2], ..., heights[j-1]).\n",
    "\n",
    "Return an array answer of length n where answer[i] is the number of people the ith person can see to their right in the queue."
   ]
  },
  {
   "cell_type": "code",
   "execution_count": null,
   "metadata": {},
   "outputs": [],
   "source": [
    "# Input: heights = [10,6,8,5,11,9]\n",
    "# Output: [3,1,2,1,1,0]\n",
    "# Explanation:\n",
    "# Person 0 can see person 1, 2, and 4.\n",
    "# Person 1 can see person 2.\n",
    "# Person 2 can see person 3 and 4.\n",
    "# Person 3 can see person 4.\n",
    "# Person 4 can see person 5.\n",
    "# Person 5 can see no one since nobody is to the right of them.\n",
    "# Example 2:\n",
    "\n",
    "# Input: heights = [5,1,2,3,10]\n",
    "# Output: [4,1,1,1,0]"
   ]
  },
  {
   "cell_type": "code",
   "execution_count": null,
   "metadata": {},
   "outputs": [],
   "source": []
  }
 ],
 "metadata": {
  "kernelspec": {
   "display_name": "Python 3",
   "language": "python",
   "name": "python3"
  },
  "language_info": {
   "codemirror_mode": {
    "name": "ipython",
    "version": 3
   },
   "file_extension": ".py",
   "mimetype": "text/x-python",
   "name": "python",
   "nbconvert_exporter": "python",
   "pygments_lexer": "ipython3",
   "version": "3.11.5"
  }
 },
 "nbformat": 4,
 "nbformat_minor": 2
}
