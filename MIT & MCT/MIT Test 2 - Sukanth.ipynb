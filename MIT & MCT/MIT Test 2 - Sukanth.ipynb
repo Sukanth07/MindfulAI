{
 "cells": [
  {
   "cell_type": "markdown",
   "metadata": {},
   "source": [
    "# 5 MARK QUESTIONS"
   ]
  },
  {
   "cell_type": "markdown",
   "metadata": {},
   "source": [
    "1- Factorial and Fibonacci:\n",
    "\n",
    "Write a function to calculate the factorial of a number.\n",
    "Write a function to generate the nth Fibonacci number."
   ]
  },
  {
   "cell_type": "code",
   "execution_count": 19,
   "metadata": {},
   "outputs": [
    {
     "name": "stdout",
     "output_type": "stream",
     "text": [
      "Enter a number: 3\n",
      "Factorial of 3 is:  6\n"
     ]
    }
   ],
   "source": [
    "# 1.i) Factorial\n",
    "\n",
    "def factorial(n):\n",
    "    if n<0:\n",
    "        return 'Number can\\'t be negative!'\n",
    "    if n<=1:\n",
    "        return 1\n",
    "    fact = 1\n",
    "    for i in range(1,n+1):\n",
    "        fact = fact * i\n",
    "    return fact\n",
    "\n",
    "n = int(input(\"Enter a number: \"))\n",
    "print(f\"Factorial of {n} is: \",factorial(n))"
   ]
  },
  {
   "cell_type": "code",
   "execution_count": 26,
   "metadata": {},
   "outputs": [
    {
     "name": "stdout",
     "output_type": "stream",
     "text": [
      "Enter a number: 7\n",
      "13\n"
     ]
    }
   ],
   "source": [
    "# 1.ii) Fibonacci\n",
    "\n",
    "def fibo(n):\n",
    "    n1, n2, n3 = 0, 1, 0\n",
    "    if n<=1:\n",
    "        return n\n",
    "    for i in range(2,n+1):\n",
    "        n3 = n1+n2\n",
    "        n1 = n2\n",
    "        n2 = n3\n",
    "    print(n3)\n",
    "    \n",
    "    \n",
    "    \n",
    "\n",
    "n = int(input(\"Enter a number: \"))\n",
    "fibo(n)\n",
    "\n",
    "# 0 1 1 2 3 5 8 13 21 ..."
   ]
  },
  {
   "cell_type": "markdown",
   "metadata": {},
   "source": [
    "2-Palindrome and Armstrong:\n",
    "\n",
    "Write a function to check if a string is a palindrome.\n",
    "Can you modify the palindrome function to consider punctuation and spaces (e.g., \"Madam, I'm Adam\" is a palindrome)?"
   ]
  },
  {
   "cell_type": "code",
   "execution_count": 36,
   "metadata": {},
   "outputs": [
    {
     "name": "stdout",
     "output_type": "stream",
     "text": [
      "Enter a string: Madam, I'm Adam\n",
      "It is Palindrome\n"
     ]
    }
   ],
   "source": [
    "# 2.i) Palindrome\n",
    "\n",
    "def palindrome(s):\n",
    "    s2 = s\n",
    "    rev = s[::-1]\n",
    "    if s2 == rev:\n",
    "        print(\"It is Palindrome\")\n",
    "    else:\n",
    "        print(\"It is not Palindrome\")\n",
    "\n",
    "s = input(\"Enter a string: \")\n",
    "s = s.lower()\n",
    "new_s = ''\n",
    "for i in s:\n",
    "    if i not in \",.`~/<>?!@#$%^&*()_+-=[]{}\\\"'; \":\n",
    "        new_s += i\n",
    "palindrome(new_s)"
   ]
  },
  {
   "cell_type": "code",
   "execution_count": 45,
   "metadata": {},
   "outputs": [
    {
     "name": "stdout",
     "output_type": "stream",
     "text": [
      "Enter a number: 127\n",
      "It is Not an Armstrong Number\n"
     ]
    }
   ],
   "source": [
    "# 2.ii) Armstrong\n",
    "\n",
    "def armstrong(n):\n",
    "    num = n\n",
    "    poww = len(str(n))\n",
    "    sum_ = 0\n",
    "    while num>0:\n",
    "        rem = num%10\n",
    "        sum_ = (sum_ * 10) + rem**poww\n",
    "        num //= 10\n",
    "    if sum_ == n:\n",
    "        print(\"It is an Armstrong Number\")\n",
    "    else:\n",
    "        print(\"It is Not an Armstrong Number\")\n",
    "\n",
    "n = int(input(\"Enter a number: \"))\n",
    "armstrong(n)"
   ]
  },
  {
   "cell_type": "markdown",
   "metadata": {},
   "source": [
    "3- Greatest of Three Numbers and Odd or Even:\n",
    "\n",
    "Write a function to find the greatest of three numbers.\n",
    "Create a function that takes three numbers and returns True if exactly one of them is even, False otherwise."
   ]
  },
  {
   "cell_type": "code",
   "execution_count": 63,
   "metadata": {},
   "outputs": [
    {
     "name": "stdout",
     "output_type": "stream",
     "text": [
      "Enter num1: 10\n",
      "Enter num2: 20\n",
      "Enter num3: 30\n",
      "30  is greatest\n"
     ]
    }
   ],
   "source": [
    "# 3.i) Greatest of Three Numbers\n",
    "def greatest(x,y,z):\n",
    "    if a>b:\n",
    "        if a>c:\n",
    "            print(a,\" is greatest\")\n",
    "        else:\n",
    "            print(c,\" is greatest\")\n",
    "    elif b>c:\n",
    "        print(b,\" is greatest\")\n",
    "    else:\n",
    "        print(c,\" is greatest\")\n",
    "\n",
    "a = int(input(\"Enter num1: \"))\n",
    "b = int(input(\"Enter num2: \"))\n",
    "c = int(input(\"Enter num3: \"))\n",
    "greatest(a,b,c)"
   ]
  },
  {
   "cell_type": "code",
   "execution_count": 66,
   "metadata": {},
   "outputs": [
    {
     "name": "stdout",
     "output_type": "stream",
     "text": [
      "Enter num1: 2\n",
      "Enter num2: 3\n",
      "Enter num3: 1\n",
      "True\n"
     ]
    }
   ],
   "source": [
    "# 3.ii) Odd or Even\n",
    "\n",
    "def odd_even(n1, n2, n3):\n",
    "    check = []\n",
    "    if n1%2==0:\n",
    "        check.append(True)\n",
    "    else:\n",
    "        check.append(False)\n",
    "    if n2%2==0:\n",
    "        check.append(True)\n",
    "    else:\n",
    "        check.append(False)\n",
    "    if n3%2==0:\n",
    "        check.append(True)\n",
    "    else:\n",
    "        check.append(False)\n",
    "        \n",
    "    if check.count(True)==1:\n",
    "        return True\n",
    "    else:\n",
    "        return False\n",
    "    \n",
    "n1 = int(input(\"Enter num1: \"))\n",
    "n2 = int(input(\"Enter num2: \"))\n",
    "n3 = int(input(\"Enter num3: \"))\n",
    "\n",
    "print(odd_even(n1,n2,n3))"
   ]
  },
  {
   "cell_type": "markdown",
   "metadata": {},
   "source": [
    "4- Is Prime and Check for Vowels:\n",
    "\n",
    "Write a function to check if a number is prime.\n",
    "Write a function to count the number of vowels in a string."
   ]
  },
  {
   "cell_type": "code",
   "execution_count": 70,
   "metadata": {},
   "outputs": [
    {
     "name": "stdout",
     "output_type": "stream",
     "text": [
      "Enter a number: 13\n",
      "Prime\n"
     ]
    }
   ],
   "source": [
    "# 4.i) Prime\n",
    "\n",
    "def prime(n):\n",
    "    if n<=1:\n",
    "        return \"Neither Prime nor Composite\"\n",
    "    for i in range(2, n):\n",
    "        if n%i == 0:\n",
    "            return \"Not a Prime\"\n",
    "    return \"Prime\"\n",
    "    \n",
    "n = int(input(\"Enter a number: \"))\n",
    "print(prime(n))"
   ]
  },
  {
   "cell_type": "code",
   "execution_count": 74,
   "metadata": {},
   "outputs": [
    {
     "name": "stdout",
     "output_type": "stream",
     "text": [
      "Enter a string: python\n"
     ]
    },
    {
     "data": {
      "text/plain": [
       "1"
      ]
     },
     "execution_count": 74,
     "metadata": {},
     "output_type": "execute_result"
    }
   ],
   "source": [
    "# 4.ii) Check Vowels\n",
    "\n",
    "def vowels(s):\n",
    "    count = 0\n",
    "    for i in s:\n",
    "        if i in 'aeiouAEIOU':\n",
    "            count += 1\n",
    "    return count\n",
    "\n",
    "s = input(\"Enter a string: \")\n",
    "vowels(s)"
   ]
  },
  {
   "cell_type": "markdown",
   "metadata": {},
   "source": [
    "# 10 MARK QUESTIONS\n"
   ]
  },
  {
   "cell_type": "markdown",
   "metadata": {},
   "source": [
    "\n",
    "1-Selecction Sort\n",
    "Implement the Selection Sort algorithm in Python for sorting a\n",
    "list of strings in alphabetical order. Analyze its time complexity.\n",
    "\n"
   ]
  },
  {
   "cell_type": "markdown",
   "metadata": {},
   "source": [
    "Bubble Sort\n",
    " Implement the Bubble Sort algorithm in Python for sorting a list\n",
    "of numbers in descending order. Analyze its average and worst-case time\n",
    "complexities."
   ]
  },
  {
   "cell_type": "code",
   "execution_count": 13,
   "metadata": {},
   "outputs": [
    {
     "name": "stdout",
     "output_type": "stream",
     "text": [
      "Original Array:  ['hi', 'a', 'b', 'z', 'c']\n",
      "\n",
      "Sorted Array:  ['b', 'a', 'c', 'hi', 'z']\n"
     ]
    }
   ],
   "source": [
    "# 1.i) Selection Sort\n",
    "\n",
    "def selectionSort(arr):\n",
    "    n = len(arr)\n",
    "    for i in range(n):\n",
    "        min_index = i\n",
    "        for j in range(i+1, n):\n",
    "            if arr[j] < arr[min_index]:\n",
    "                min_index = j\n",
    "            arr[i], arr[min_index] = arr[min_index], arr[i]\n",
    "            \n",
    "    print(\"\\nSorted Array: \",arr)\n",
    "\n",
    "arr = ['hi','a','b','z','c']\n",
    "print(\"Original Array: \",arr)\n",
    "selectionSort(arr)\n",
    "\n",
    "# Time Complexity of Selection Sort is O(n**2). \n",
    "# Because we use two for loops as nested loop and each loop traverse the array to its length"
   ]
  },
  {
   "cell_type": "code",
   "execution_count": 12,
   "metadata": {},
   "outputs": [
    {
     "name": "stdout",
     "output_type": "stream",
     "text": [
      "Original Array:  [3, 1, 5, 6, 19, 34]\n",
      "\n",
      "Sorted Array:  [34, 19, 6, 5, 3, 1]\n"
     ]
    }
   ],
   "source": [
    "# 1.ii) Bubble Sort\n",
    "\n",
    "def bubbleSort(arr):\n",
    "    n = len(arr)\n",
    "    swap = False\n",
    "    for i in range(n):\n",
    "        for j in range(n-i-1):\n",
    "            if arr[j] < arr[j+1]:\n",
    "                arr[j], arr[j+1] = arr[j+1], arr[j]\n",
    "                swap = True\n",
    "        if swap==False:\n",
    "            break\n",
    "    print(\"\\nSorted Array: \",arr)\n",
    "            \n",
    "arr = [3,1,5,6,19,34]\n",
    "print(\"Original Array: \",arr)\n",
    "bubbleSort(arr)\n",
    "\n",
    "# Time Complexity of Bubble Sort in Average Case is O(n**2). \n",
    "# Time Complexity of Bubble Sort in Worst Case is O(n**2).\n",
    "# Because in both the cases it needs to iterate over the array using the nested loop and compare each pair of elements.\n",
    "\n",
    "\n",
    "# Time Complexity of Bubble Sort in Best Case is O(n).\n",
    "# In best case all the elements are already sorted. So it will run only a single iteration over the array for comparing elements."
   ]
  },
  {
   "cell_type": "markdown",
   "metadata": {},
   "source": [
    "2- You are given a dictionary where the keys represent items and the values represent their respective prices. Your task is to implement a Python function called filter_prices that takes this dictionary and a threshold price as input and returns a new dictionary containing only the key-value pairs where the prices are greater than the given threshold.\n",
    "\n",
    "Write the function filter_prices that takes a dictionary (prices_dict) and a threshold price (threshold) as input and returns a new dictionary containing only the key-value pairs where the prices are greater than the given threshold."
   ]
  },
  {
   "cell_type": "markdown",
   "metadata": {},
   "source": [
    ": Write a Python function that takes a list of numbers and returns\n",
    "a new list containing only the unique elements"
   ]
  },
  {
   "cell_type": "code",
   "execution_count": 9,
   "metadata": {},
   "outputs": [
    {
     "name": "stdout",
     "output_type": "stream",
     "text": [
      "Original Dictionary: {'item1': 300, 'item2': 650, 'item3': 287, 'item4': 329, 'item5': 200}   Threshold: 300\n",
      "\n",
      "Filtered Dictionary: {'item2': 650, 'item4': 329}\n"
     ]
    }
   ],
   "source": [
    "# 2.i) Dictionary --> Filter Prices\n",
    "\n",
    "def filter_prices(d, thres):\n",
    "    mydict = {}\n",
    "    for key,value in d.items():\n",
    "        if value > thres:\n",
    "            mydict[key] = value\n",
    "    return mydict\n",
    "\n",
    "prices_dict = {\n",
    "    'item1':300,\n",
    "    'item2':650,\n",
    "    'item3':287,\n",
    "    'item4':329,\n",
    "    'item5':200\n",
    "}\n",
    "\n",
    "thres = 300\n",
    "print(\"Original Dictionary:\",prices_dict, \"  Threshold:\",thres)\n",
    "print(\"\\nFiltered Dictionary:\",filter_prices(prices_dict, thres))\n",
    "\n"
   ]
  },
  {
   "cell_type": "code",
   "execution_count": 11,
   "metadata": {},
   "outputs": [
    {
     "name": "stdout",
     "output_type": "stream",
     "text": [
      "Original Array: [2, 1, 4, 3, 4, 2, 5, 6, 1, 3]\n",
      "\n",
      "Unique Array: [2, 1, 4, 3, 5, 6]\n"
     ]
    }
   ],
   "source": [
    "# 2.ii) Unique Elements\n",
    "\n",
    "def find_unique(arr):\n",
    "    unique = []\n",
    "    for i in arr:\n",
    "        if i not in unique:\n",
    "            unique.append(i)\n",
    "    return unique\n",
    "\n",
    "arr = [2, 1, 4, 3, 4, 2, 5, 6, 1, 3]\n",
    "print(\"Original Array:\",arr)\n",
    "print(\"\\nUnique Array:\",find_unique(arr))"
   ]
  },
  {
   "cell_type": "code",
   "execution_count": null,
   "metadata": {},
   "outputs": [],
   "source": []
  }
 ],
 "metadata": {
  "kernelspec": {
   "display_name": "Python 3 (ipykernel)",
   "language": "python",
   "name": "python3"
  },
  "language_info": {
   "codemirror_mode": {
    "name": "ipython",
    "version": 3
   },
   "file_extension": ".py",
   "mimetype": "text/x-python",
   "name": "python",
   "nbconvert_exporter": "python",
   "pygments_lexer": "ipython3",
   "version": "3.11.5"
  }
 },
 "nbformat": 4,
 "nbformat_minor": 2
}
