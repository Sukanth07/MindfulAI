{
 "cells": [
  {
   "cell_type": "markdown",
   "metadata": {},
   "source": [
    "# Use Bubble sort to sort the given array [12,34,56,78,45,2]"
   ]
  },
  {
   "cell_type": "code",
   "execution_count": 7,
   "metadata": {},
   "outputs": [
    {
     "name": "stdout",
     "output_type": "stream",
     "text": [
      "Original Array: [12, 34, 56, 78, 45, 2]\n",
      "Sorted Array: [2, 12, 34, 45, 56, 78]\n",
      "No.of Swaps: 7\n"
     ]
    }
   ],
   "source": [
    "def bubbleSort(arr):\n",
    "    n = len(arr)\n",
    "    count = 0\n",
    "    for i in range(n):\n",
    "        for j in range(n-i-1):\n",
    "            if arr[j] > arr[j+1]:\n",
    "                arr[j], arr[j+1] = arr[j+1], arr[j]\n",
    "                count+=1\n",
    "    print(\"Sorted Array:\",arr)\n",
    "    print(\"No.of Swaps:\",count)\n",
    "    # print(arr)\n",
    "\n",
    "arr = [12,34,56,78,45,2]\n",
    "print(\"Original Array:\",arr)\n",
    "bubbleSort(arr)\n"
   ]
  },
  {
   "cell_type": "markdown",
   "metadata": {},
   "source": [
    "# use selection sort to sort the given array [34,21,52,43,12,3]"
   ]
  },
  {
   "cell_type": "code",
   "execution_count": 8,
   "metadata": {},
   "outputs": [
    {
     "name": "stdout",
     "output_type": "stream",
     "text": [
      "Original Array: [34, 21, 52, 43, 12, 3]\n",
      "Sorted Array: [3, 12, 21, 34, 43, 52]\n",
      "No.of Swaps: 6\n"
     ]
    }
   ],
   "source": [
    "def selectionSort(arr):\n",
    "    n = len(arr)\n",
    "    count = 0\n",
    "    for i in range(n):\n",
    "        min_index = i\n",
    "        for j in range(i+1, n):\n",
    "            if arr[j]<arr[min_index]:\n",
    "                min_index = j\n",
    "        arr[min_index], arr[i] = arr[i], arr[min_index]\n",
    "        count+=1\n",
    "        # print(arr)\n",
    "    print(\"Sorted Array:\",arr)\n",
    "    print(\"No.of Swaps:\",count)\n",
    "\n",
    "arr = [34,21,52,43,12,3]\n",
    "print(\"Original Array:\",arr)\n",
    "selectionSort(arr)"
   ]
  },
  {
   "cell_type": "markdown",
   "metadata": {},
   "source": [
    "# Adding and Retrieving Items (Fruit Basket):\n",
    "# Imagine you have a basket with different fruits. \n",
    "# Let's create a dictionary to keep track of them:  \n",
    "# Creating the Dictionary called fruits:  \n",
    "# add apple and orange with the count of 2 and 3:  \n",
    "# retrive the fruit apple:"
   ]
  },
  {
   "cell_type": "code",
   "execution_count": 11,
   "metadata": {},
   "outputs": [
    {
     "name": "stdout",
     "output_type": "stream",
     "text": [
      "{'apple': 2, 'orange': 3}\n",
      "\n",
      "Apple: 2\n"
     ]
    }
   ],
   "source": [
    "fruit = dict()\n",
    "fruit['apple'] = 2\n",
    "fruit['orange'] = 3\n",
    "print(fruit)\n",
    "\n",
    "print(\"\\nApple:\",fruit['apple'])"
   ]
  },
  {
   "cell_type": "markdown",
   "metadata": {},
   "source": [
    "# Counting Letters (Simple Histogram):\n",
    "# Let's count the frequency of letters in a short word:\n",
    "# Creating the Dictionary:\n",
    "# Counting Letters:\n",
    "# Checking Counts:"
   ]
  },
  {
   "cell_type": "code",
   "execution_count": 16,
   "metadata": {},
   "outputs": [
    {
     "name": "stdout",
     "output_type": "stream",
     "text": [
      "String: helloworld\n",
      "Count of Letters in the Word: 7\n",
      "Count of Individual Letters in the Word: {'h': 1, 'e': 1, 'l': 3, 'o': 2, 'w': 1, 'r': 1, 'd': 1}\n"
     ]
    }
   ],
   "source": [
    "s = input(\"Enter a string:\")\n",
    "print(\"String:\",s)\n",
    "\n",
    "mydict = dict()\n",
    "\n",
    "for i in s:\n",
    "    if i in mydict.keys():\n",
    "        mydict[i] += 1\n",
    "    else:\n",
    "        mydict[i] = 1\n",
    "\n",
    "print(\"Count of Letters in the Word:\",len(mydict))\n",
    "print(\"Count of Individual Letters in the Word:\",mydict)"
   ]
  },
  {
   "cell_type": "code",
   "execution_count": null,
   "metadata": {},
   "outputs": [],
   "source": []
  }
 ],
 "metadata": {
  "kernelspec": {
   "display_name": "Python 3",
   "language": "python",
   "name": "python3"
  },
  "language_info": {
   "codemirror_mode": {
    "name": "ipython",
    "version": 3
   },
   "file_extension": ".py",
   "mimetype": "text/x-python",
   "name": "python",
   "nbconvert_exporter": "python",
   "pygments_lexer": "ipython3",
   "version": "3.11.5"
  }
 },
 "nbformat": 4,
 "nbformat_minor": 2
}
