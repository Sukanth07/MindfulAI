{
 "cells": [
  {
   "cell_type": "markdown",
   "id": "2b917343",
   "metadata": {},
   "source": [
    "# Contains Duplicate in a List"
   ]
  },
  {
   "cell_type": "markdown",
   "id": "77ec0aed",
   "metadata": {},
   "source": [
    "## https://leetcode.com/problems/contains-duplicate/description/"
   ]
  },
  {
   "cell_type": "code",
   "execution_count": 3,
   "id": "89a5783a",
   "metadata": {},
   "outputs": [
    {
     "name": "stdout",
     "output_type": "stream",
     "text": [
      "True\n"
     ]
    }
   ],
   "source": [
    "def containsDuplicate(nums):\n",
    "    hmap = {}\n",
    "    max_ = 0\n",
    "    n = len(nums)\n",
    "    for i in range(n):\n",
    "        if nums[i] not in hmap:\n",
    "            hmap[nums[i]] = 1\n",
    "        elif nums[i] in hmap:\n",
    "            hmap[nums[i]] += 1\n",
    "        max_ = max(max_, hmap[nums[i]])\n",
    "        \n",
    "        if max_ >= 2:\n",
    "            return True\n",
    "    return False\n",
    "\n",
    "nums = [1, 3, 4, 2, 5, 4, 5, 6]\n",
    "print(containsDuplicate(nums))"
   ]
  },
  {
   "cell_type": "markdown",
   "id": "9b4f5121",
   "metadata": {},
   "source": [
    "# Valid Anagram"
   ]
  },
  {
   "cell_type": "markdown",
   "id": "69d511ff",
   "metadata": {},
   "source": [
    "## https://leetcode.com/problems/valid-anagram/description/"
   ]
  },
  {
   "cell_type": "code",
   "execution_count": 6,
   "id": "e6c95b92",
   "metadata": {},
   "outputs": [
    {
     "name": "stdout",
     "output_type": "stream",
     "text": [
      "True\n"
     ]
    }
   ],
   "source": [
    "def isAnagram(s, t):\n",
    "        s_sorted = sorted(s)\n",
    "        t_sorted = sorted(t)\n",
    "        if s_sorted == t_sorted:\n",
    "            return True\n",
    "        return False\n",
    "\n",
    "s = 'anagram'\n",
    "t = 'nagaram'\n",
    "\n",
    "print(isAnagram(s,t))"
   ]
  },
  {
   "cell_type": "code",
   "execution_count": 6,
   "id": "41afd11b",
   "metadata": {},
   "outputs": [
    {
     "name": "stdout",
     "output_type": "stream",
     "text": [
      "[0, 0, 0, 0, 0]\n",
      "[1, 1, 1, 1, 1]\n",
      "[1, 2, 1, 1, 1]\n",
      "[1, 2, 8, 1, 1]\n",
      "[1, 2, 8, 8, 1]\n",
      "[1, 2, 8, 8, 40]\n",
      "[1, 2, 8, 8, 40]\n",
      "-------------------------------------------\n",
      "[1, 1, 1, 1, 1]\n",
      "[1, 1, 1, 3, 1]\n",
      "[1, 1, 15, 3, 1]\n",
      "[1, 15, 15, 3, 1]\n",
      "[60, 15, 15, 3, 1]\n",
      "[60, 30, 120, 24, 40]\n"
     ]
    }
   ],
   "source": [
    "def multiply_except_index(arr):\n",
    "    n = len(arr)\n",
    "    result = [0] * n\n",
    "    print(result)\n",
    "    \n",
    "    left = [1] * n\n",
    "    print(left)\n",
    "    for i in range(1, n):\n",
    "        left[i] = left[i-1] * arr[i-1]\n",
    "        print(left)\n",
    "    print(left)\n",
    "\n",
    "\n",
    "    print(\"-------------------------------------------\")\n",
    "\n",
    "\n",
    "    right = [1] * n\n",
    "    print(right)\n",
    "    for i in range(n-2, -1, -1):\n",
    "        right[i] = right[i+1] * arr[i+1]\n",
    "        print(right)\n",
    "\n",
    "    for i in range(n):\n",
    "        result[i] = left[i] * right[i]\n",
    "\n",
    "    return result\n",
    "\n",
    "arr = [2, 4, 1, 5, 3]\n",
    "result = multiply_except_index(arr)\n",
    "print(result)\n"
   ]
  },
  {
   "cell_type": "code",
   "execution_count": null,
   "id": "a534706f",
   "metadata": {},
   "outputs": [],
   "source": [
    "res = [0,0,0,0,0]"
   ]
  }
 ],
 "metadata": {
  "kernelspec": {
   "display_name": "Python 3 (ipykernel)",
   "language": "python",
   "name": "python3"
  },
  "language_info": {
   "codemirror_mode": {
    "name": "ipython",
    "version": 3
   },
   "file_extension": ".py",
   "mimetype": "text/x-python",
   "name": "python",
   "nbconvert_exporter": "python",
   "pygments_lexer": "ipython3",
   "version": "3.11.5"
  }
 },
 "nbformat": 4,
 "nbformat_minor": 5
}
