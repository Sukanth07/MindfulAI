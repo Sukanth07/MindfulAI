{
 "cells": [
  {
   "cell_type": "markdown",
   "id": "3dede660",
   "metadata": {},
   "source": [
    "# https://leetcode.com/problems/type-of-triangle/description/"
   ]
  },
  {
   "cell_type": "code",
   "execution_count": 1,
   "id": "aab22e5f",
   "metadata": {},
   "outputs": [
    {
     "name": "stdout",
     "output_type": "stream",
     "text": [
      "scalene\n"
     ]
    }
   ],
   "source": [
    "def triangleType(nums):\n",
    "    nums.sort()\n",
    "    if nums[0] + nums[1] <= nums[2]:\n",
    "        return \"none\"\n",
    "    elif ((nums[0] + nums[1]) // 2) == nums[2]:\n",
    "        return \"equilateral\"\n",
    "    elif nums[0] == nums[1] or nums[1] == nums[2]:\n",
    "        return \"isosceles\"\n",
    "    else:\n",
    "        return \"scalene\"\n",
    "    \n",
    "nums = [3,4,5]\n",
    "print(triangleType(nums))"
   ]
  },
  {
   "cell_type": "markdown",
   "id": "7390f77a",
   "metadata": {},
   "source": [
    "# https://leetcode.com/problems/ant-on-the-boundary/description/"
   ]
  },
  {
   "cell_type": "code",
   "execution_count": 1,
   "id": "cbdf7945",
   "metadata": {},
   "outputs": [
    {
     "name": "stdout",
     "output_type": "stream",
     "text": [
      "1\n"
     ]
    }
   ],
   "source": [
    "def returnToBoundaryCount(nums):\n",
    "    n = len(nums)\n",
    "    times = 0\n",
    "    boundary = 0\n",
    "    for i in range(n):\n",
    "        boundary += nums[i]\n",
    "        if boundary == 0:\n",
    "            times += 1\n",
    "    return times\n",
    "\n",
    "nums = [2,3,-5]\n",
    "print(returnToBoundaryCount(nums))"
   ]
  },
  {
   "cell_type": "markdown",
   "id": "e745fc31",
   "metadata": {},
   "source": [
    "# https://leetcode.com/problems/minimum-number-game/description/"
   ]
  },
  {
   "cell_type": "code",
   "execution_count": 2,
   "id": "9f9c16a6",
   "metadata": {},
   "outputs": [
    {
     "name": "stdout",
     "output_type": "stream",
     "text": [
      "[2, 1, 5, 4]\n"
     ]
    }
   ],
   "source": [
    "def numberGame(nums):\n",
    "    nums.sort()\n",
    "    n = len(nums)\n",
    "    \n",
    "    for i in range(0,n,2):\n",
    "        nums[i], nums[i+1] = nums[i+1], nums[i]\n",
    "    \n",
    "    return nums\n",
    "\n",
    "nums = [5,4,1,2]\n",
    "print(numberGame(nums))"
   ]
  },
  {
   "cell_type": "markdown",
   "id": "343164a9",
   "metadata": {},
   "source": [
    "# https://leetcode.com/problems/find-words-containing-character/description/"
   ]
  },
  {
   "cell_type": "code",
   "execution_count": 3,
   "id": "5c73033e",
   "metadata": {},
   "outputs": [
    {
     "name": "stdout",
     "output_type": "stream",
     "text": [
      "[0, 1]\n"
     ]
    }
   ],
   "source": [
    "def findWordsContaining(words, x):\n",
    "    n = len(words)\n",
    "    res = []\n",
    "    for i in range(n):\n",
    "        if x in words[i]:\n",
    "            res.append(i)\n",
    "    return res\n",
    "\n",
    "words = [\"leet\", \"code\", \"daily\"]\n",
    "x = \"e\"\n",
    "print(findWordsContaining(words, x))"
   ]
  },
  {
   "cell_type": "code",
   "execution_count": null,
   "id": "19d8bd9f",
   "metadata": {},
   "outputs": [],
   "source": []
  }
 ],
 "metadata": {
  "kernelspec": {
   "display_name": "Python 3 (ipykernel)",
   "language": "python",
   "name": "python3"
  },
  "language_info": {
   "codemirror_mode": {
    "name": "ipython",
    "version": 3
   },
   "file_extension": ".py",
   "mimetype": "text/x-python",
   "name": "python",
   "nbconvert_exporter": "python",
   "pygments_lexer": "ipython3",
   "version": "3.11.5"
  }
 },
 "nbformat": 4,
 "nbformat_minor": 5
}
