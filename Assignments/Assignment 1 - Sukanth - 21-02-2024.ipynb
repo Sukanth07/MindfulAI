{
 "cells": [
  {
   "cell_type": "markdown",
   "id": "265ef112",
   "metadata": {},
   "source": [
    "## 1. Write a Python code to take inputs like integer, float and string in different variables from keyboard ?\n"
   ]
  },
  {
   "cell_type": "code",
   "execution_count": 1,
   "id": "06bf25f6",
   "metadata": {},
   "outputs": [
    {
     "name": "stdout",
     "output_type": "stream",
     "text": [
      "Int Input: 40\n",
      "Float Input: 10.21\n",
      "String Input: I am Batman\n"
     ]
    }
   ],
   "source": [
    "a = int(input(\"Enter Int Input: \"))\n",
    "b = float(input(\"Enter Float Input: \"))\n",
    "c = input(\"Enter String Input: \")\n",
    "\n",
    "print(f\"Int Input: {a}\\nFloat Input: {b}\\nString Input: {c}\")"
   ]
  },
  {
   "cell_type": "markdown",
   "id": "1b208067",
   "metadata": {},
   "source": [
    "## 2. Write a python code to take a number input and tell if the number is divisible by 2 & 3 ?\n"
   ]
  },
  {
   "cell_type": "code",
   "execution_count": 3,
   "id": "04a776b5",
   "metadata": {},
   "outputs": [
    {
     "name": "stdout",
     "output_type": "stream",
     "text": [
      "Number: 18\n",
      "Divisible by 2 and 3\n"
     ]
    }
   ],
   "source": [
    "a = int(input(\"Enter a number: \"))\n",
    "print(f\"Number: {a}\")\n",
    "if a%2==0 and a%3==0:\n",
    "    print(\"Divisible by 2 and 3\")\n",
    "else:\n",
    "    print(\"Not Divisible by 2 and 3\")"
   ]
  },
  {
   "cell_type": "markdown",
   "id": "56fec58e",
   "metadata": {},
   "source": [
    "## 3. Write a python code where you take the age of a person as input and if the age is less than 10 print Child and if age is between 10 to 25 print Student and if age is between 25 to 60 print Working professional if the age is greater than 60 then print Retired Person."
   ]
  },
  {
   "cell_type": "code",
   "execution_count": 4,
   "id": "05dd3bab",
   "metadata": {},
   "outputs": [
    {
     "name": "stdout",
     "output_type": "stream",
     "text": [
      "Age: 45\n",
      "Working Professional\n"
     ]
    }
   ],
   "source": [
    "age = int(input(\"Enter the age: \"))\n",
    "print(f\"Age: {age}\")\n",
    "\n",
    "if age<10:\n",
    "    print(\"Child\")\n",
    "elif age>=10 and age<25:\n",
    "    print(\"Student\")\n",
    "elif age>=25 and age<60:\n",
    "    print(\"Working Professional\")\n",
    "else:\n",
    "    print(\"Retired Person\")"
   ]
  },
  {
   "cell_type": "markdown",
   "id": "9eff1df2",
   "metadata": {},
   "source": [
    "## 4. Write a python Code for a Calculator which takes 3 values as input 1st a number then a expression and then another number and gives us a result ? "
   ]
  },
  {
   "cell_type": "code",
   "execution_count": 7,
   "id": "81cb49b6",
   "metadata": {},
   "outputs": [
    {
     "name": "stdout",
     "output_type": "stream",
     "text": [
      "Num 1: 4.0 \n",
      "Num 2: 5.0 \n",
      "Expression: '-'\n",
      "Result: -1.0\n"
     ]
    }
   ],
   "source": [
    "num1 = float(input(\"Enter Num 1: \"))\n",
    "exp = input(\"Enter the Expression ('+', '-', '*', '/'): \")\n",
    "num2 = float(input(\"Enter Num 2: \"))\n",
    "print(f\"Num 1: {num1} \\nNum 2: {num2} \\nExpression: '{exp}'\")\n",
    "result = eval(f\"{num1}{exp}{num2}\")\n",
    "print(f\"Result: {result}\")"
   ]
  },
  {
   "cell_type": "markdown",
   "id": "b7b8286d",
   "metadata": {},
   "source": [
    "## 5. Write a python code to take a string as an input if that string last two number are either a,A,b,B the print Successful otherwise wrong ?"
   ]
  },
  {
   "cell_type": "code",
   "execution_count": 24,
   "id": "dbc885aa",
   "metadata": {},
   "outputs": [
    {
     "name": "stdout",
     "output_type": "stream",
     "text": [
      "String: asdfbcsdaa\n",
      "Successful\n"
     ]
    }
   ],
   "source": [
    "string = input(\"Enter a string: \")\n",
    "print(f\"String: {string}\")\n",
    "\n",
    "if string[-2] in ['a','A','b','B'] and string[-1] in ['a','A','b','B']:\n",
    "    print(\"Successful\")\n",
    "else:\n",
    "    print(\"Wrong\")"
   ]
  },
  {
   "cell_type": "code",
   "execution_count": null,
   "id": "7f594ce4",
   "metadata": {},
   "outputs": [],
   "source": []
  }
 ],
 "metadata": {
  "kernelspec": {
   "display_name": "Python 3 (ipykernel)",
   "language": "python",
   "name": "python3"
  },
  "language_info": {
   "codemirror_mode": {
    "name": "ipython",
    "version": 3
   },
   "file_extension": ".py",
   "mimetype": "text/x-python",
   "name": "python",
   "nbconvert_exporter": "python",
   "pygments_lexer": "ipython3",
   "version": "3.11.5"
  }
 },
 "nbformat": 4,
 "nbformat_minor": 5
}
