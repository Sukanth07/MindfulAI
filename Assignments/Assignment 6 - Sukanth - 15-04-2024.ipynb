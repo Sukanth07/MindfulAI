{
 "cells": [
  {
   "cell_type": "markdown",
   "id": "438a72e0",
   "metadata": {},
   "source": [
    "# https://leetcode.com/problems/score-of-a-string/description/"
   ]
  },
  {
   "cell_type": "code",
   "execution_count": 2,
   "id": "d122e468",
   "metadata": {},
   "outputs": [
    {
     "name": "stdout",
     "output_type": "stream",
     "text": [
      "hello\n",
      "13\n"
     ]
    }
   ],
   "source": [
    "def scoreOfString(s):\n",
    "    n = len(s)\n",
    "    res = 0\n",
    "    \n",
    "    for i in range(n-1):\n",
    "        res += abs(ord(s[i]) - ord(s[i+1]))\n",
    "    \n",
    "    return res\n",
    "\n",
    "s = input(\"Enter a string: \")\n",
    "print(s)\n",
    "print(scoreOfString(s))"
   ]
  },
  {
   "cell_type": "markdown",
   "id": "6489a3dd",
   "metadata": {},
   "source": [
    "# https://leetcode.com/problems/valid-phone-numbers/description/"
   ]
  },
  {
   "cell_type": "code",
   "execution_count": 3,
   "id": "a24f0a94",
   "metadata": {},
   "outputs": [
    {
     "name": "stdout",
     "output_type": "stream",
     "text": [
      "987-123-4567\n",
      "(123) 456-7890\n"
     ]
    }
   ],
   "source": [
    "import re\n",
    "\n",
    "with open('file.txt', 'r') as file:\n",
    "    lines = file.readlines()\n",
    "\n",
    "pattern = r'^(\\([0-9]{3}\\) |[0-9]{3}-)[0-9]{3}-[0-9]{4}$'\n",
    "\n",
    "for line in lines:\n",
    "    match = re.search(pattern, line)\n",
    "    if match:\n",
    "        print(match.group())"
   ]
  },
  {
   "cell_type": "code",
   "execution_count": null,
   "id": "45b5b739",
   "metadata": {},
   "outputs": [],
   "source": []
  }
 ],
 "metadata": {
  "kernelspec": {
   "display_name": "Python 3 (ipykernel)",
   "language": "python",
   "name": "python3"
  },
  "language_info": {
   "codemirror_mode": {
    "name": "ipython",
    "version": 3
   },
   "file_extension": ".py",
   "mimetype": "text/x-python",
   "name": "python",
   "nbconvert_exporter": "python",
   "pygments_lexer": "ipython3",
   "version": "3.11.5"
  }
 },
 "nbformat": 4,
 "nbformat_minor": 5
}
