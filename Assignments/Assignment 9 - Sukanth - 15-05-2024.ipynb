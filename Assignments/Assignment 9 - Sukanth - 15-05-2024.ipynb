{
 "cells": [
  {
   "cell_type": "code",
   "execution_count": 1,
   "metadata": {},
   "outputs": [
    {
     "name": "stdout",
     "output_type": "stream",
     "text": [
      "fl\n"
     ]
    }
   ],
   "source": [
    "# Longest Common Prefix\n",
    "def longestCommonPrefix(strs):\n",
    "    res = \"\"\n",
    "    for i in range(len(strs[0])):\n",
    "        for s in strs:\n",
    "            if i == len(s) or strs[0][i] != s[i]:\n",
    "                return res\n",
    "        res += strs[0][i]\n",
    "    return res\n",
    "\n",
    "strs = ['flower', 'flow', 'flight']\n",
    "print(longestCommonPrefix(strs))"
   ]
  },
  {
   "cell_type": "code",
   "execution_count": 3,
   "metadata": {},
   "outputs": [
    {
     "name": "stdout",
     "output_type": "stream",
     "text": [
      "5\n"
     ]
    }
   ],
   "source": [
    "# Best time to buy and sell stock\n",
    "\n",
    "def maxProfit(prices):\n",
    "    n = len(prices)\n",
    "    if n <= 1:\n",
    "        return 0\n",
    "    buy, sell = 0, 1\n",
    "    res = 0\n",
    "    \n",
    "    while sell < n:\n",
    "        profit = prices[sell] - prices[buy]\n",
    "        if profit < 0:\n",
    "            buy = sell\n",
    "            sell = buy + 1\n",
    "        else:\n",
    "            sell += 1\n",
    "        res = max(res, profit)\n",
    "    \n",
    "    return res\n",
    "\n",
    "prices = [7,1,3,5,6,2]\n",
    "print(maxProfit(prices))     "
   ]
  },
  {
   "cell_type": "code",
   "execution_count": 27,
   "metadata": {},
   "outputs": [
    {
     "name": "stdout",
     "output_type": "stream",
     "text": [
      "5\n"
     ]
    }
   ],
   "source": [
    "# Remove duplicates from array\n",
    "\n",
    "def removeDuplicates(nums):\n",
    "    n = len(nums)\n",
    "    if n <= 1:\n",
    "        return n\n",
    "    i, count, prev = 1, 1, nums[0]\n",
    "    \n",
    "    while i < n:\n",
    "        if nums[i] == prev:\n",
    "            nums.remove(nums[i])\n",
    "            n -= 1\n",
    "        elif nums[i] != prev:\n",
    "            prev = nums[i]\n",
    "            i += 1\n",
    "            count += 1\n",
    "        \n",
    "    return count\n",
    "\n",
    "nums = [0,0,2,3,4,4,5]\n",
    "print(removeDuplicates(nums))"
   ]
  },
  {
   "cell_type": "code",
   "execution_count": null,
   "metadata": {},
   "outputs": [],
   "source": []
  }
 ],
 "metadata": {
  "kernelspec": {
   "display_name": "base",
   "language": "python",
   "name": "python3"
  },
  "language_info": {
   "codemirror_mode": {
    "name": "ipython",
    "version": 3
   },
   "file_extension": ".py",
   "mimetype": "text/x-python",
   "name": "python",
   "nbconvert_exporter": "python",
   "pygments_lexer": "ipython3",
   "version": "3.11.5"
  }
 },
 "nbformat": 4,
 "nbformat_minor": 2
}
