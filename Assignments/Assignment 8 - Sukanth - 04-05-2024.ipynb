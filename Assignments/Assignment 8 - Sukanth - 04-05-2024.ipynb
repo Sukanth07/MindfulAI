{
 "cells": [
  {
   "cell_type": "markdown",
   "id": "9872fcab",
   "metadata": {},
   "source": [
    "# https://leetcode.com/problems/climbing-stairs/description/"
   ]
  },
  {
   "cell_type": "code",
   "execution_count": 1,
   "id": "839b450f",
   "metadata": {},
   "outputs": [
    {
     "name": "stdout",
     "output_type": "stream",
     "text": [
      "3\n"
     ]
    }
   ],
   "source": [
    "def climbStairs(n):\n",
    "    a, b = 1, 1\n",
    "    for i in range(n-1):\n",
    "        temp = a\n",
    "        a = a + b\n",
    "        b = temp\n",
    "    return a\n",
    "\n",
    "n = int(input(\"Enter No.of Stairs: \"))\n",
    "print(climbStairs(n))"
   ]
  },
  {
   "cell_type": "markdown",
   "id": "d9229595",
   "metadata": {},
   "source": [
    "# https://leetcode.com/problems/sqrtx/description/"
   ]
  },
  {
   "cell_type": "code",
   "execution_count": 4,
   "id": "e51e1817",
   "metadata": {},
   "outputs": [
    {
     "name": "stdout",
     "output_type": "stream",
     "text": [
      "Output:  2\n"
     ]
    }
   ],
   "source": [
    "def mySqrt(x):\n",
    "    if x <= 1:\n",
    "        return x\n",
    "    left = 1\n",
    "    right = x // 2\n",
    "    while left <= right:\n",
    "        mid = (right + left) // 2\n",
    "        if mid*mid > x:\n",
    "            right = mid + -1\n",
    "        else:\n",
    "            left = mid + 1\n",
    "    return right\n",
    "\n",
    "x = int(input(\"Enter a number: \"))\n",
    "print(\"Output: \", mySqrt(x))"
   ]
  },
  {
   "cell_type": "markdown",
   "id": "1fd83424",
   "metadata": {},
   "source": [
    "# https://leetcode.com/problems/missing-number/description/"
   ]
  },
  {
   "cell_type": "code",
   "execution_count": 9,
   "id": "824572ff",
   "metadata": {},
   "outputs": [
    {
     "name": "stdout",
     "output_type": "stream",
     "text": [
      "2\n"
     ]
    }
   ],
   "source": [
    "def missingNumber(nums):\n",
    "    n = len(nums)\n",
    "    res = [0]*(n+1)\n",
    "    for i in range(n):\n",
    "        res[nums[i]] = 1\n",
    "    n_res = len(res)\n",
    "    for i in range(n_res):\n",
    "        if res[i] == 0:\n",
    "            return i\n",
    "        \n",
    "nums = [3,1,0]\n",
    "print(missingNumber(nums))"
   ]
  },
  {
   "cell_type": "markdown",
   "id": "1887e1f7",
   "metadata": {},
   "source": [
    "# https://leetcode.com/problems/intersection-of-two-arrays/description/"
   ]
  },
  {
   "cell_type": "code",
   "execution_count": 11,
   "id": "98eafe68",
   "metadata": {},
   "outputs": [
    {
     "name": "stdout",
     "output_type": "stream",
     "text": [
      "Output:  [1, 2]\n"
     ]
    }
   ],
   "source": [
    "def intersection(nums1, nums2):\n",
    "    nums1 = set(nums1)\n",
    "    nums2 = set(nums2)\n",
    "    res = nums1.intersection(nums2)\n",
    "    return list(res)\n",
    "\n",
    "nums1 = [4,2,3,4,2,1]\n",
    "nums2 = [2,6,1,2]\n",
    "print(\"Output: \", intersection(nums1,nums2))"
   ]
  },
  {
   "cell_type": "code",
   "execution_count": 5,
   "id": "fc31467e",
   "metadata": {},
   "outputs": [
    {
     "name": "stdout",
     "output_type": "stream",
     "text": [
      "[False, True, False, True, False, True, False, True, False, True, False, True, False, True, False, True, False, True, False, True]\n"
     ]
    }
   ],
   "source": [
    "def foo(i):\n",
    "    if i%2==0:\n",
    "        return True\n",
    "    else:\n",
    "        return False\n",
    "\n",
    "print(foo(i) for i in range(1,21))"
   ]
  },
  {
   "cell_type": "code",
   "execution_count": 7,
   "id": "bc191bc6",
   "metadata": {},
   "outputs": [
    {
     "name": "stdout",
     "output_type": "stream",
     "text": [
      "True\n"
     ]
    }
   ],
   "source": [
    "print(True) if 10>4 else print(False)"
   ]
  },
  {
   "cell_type": "code",
   "execution_count": null,
   "id": "3c85b973",
   "metadata": {},
   "outputs": [],
   "source": []
  }
 ],
 "metadata": {
  "kernelspec": {
   "display_name": "Python 3 (ipykernel)",
   "language": "python",
   "name": "python3"
  },
  "language_info": {
   "codemirror_mode": {
    "name": "ipython",
    "version": 3
   },
   "file_extension": ".py",
   "mimetype": "text/x-python",
   "name": "python",
   "nbconvert_exporter": "python",
   "pygments_lexer": "ipython3",
   "version": "3.11.5"
  }
 },
 "nbformat": 4,
 "nbformat_minor": 5
}
