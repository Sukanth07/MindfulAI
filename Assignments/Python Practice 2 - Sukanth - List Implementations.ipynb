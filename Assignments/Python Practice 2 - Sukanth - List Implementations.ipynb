{
 "cells": [
  {
   "cell_type": "markdown",
   "id": "c8715419",
   "metadata": {},
   "source": [
    "# Python Lists"
   ]
  },
  {
   "cell_type": "code",
   "execution_count": 1,
   "id": "ac8e9d71",
   "metadata": {},
   "outputs": [
    {
     "name": "stdout",
     "output_type": "stream",
     "text": [
      "['apple', 'banana', 'cat', 'dog', 'elephant', 'frog', 'gasoline', 'hike', 'ice-cream']\n"
     ]
    }
   ],
   "source": [
    "lis = [\"apple\",\"banana\",\"cat\",\"dog\",\"elephant\",\"frog\",\"gasoline\",\"hike\",\"ice-cream\"]\n",
    "print(lis)"
   ]
  },
  {
   "cell_type": "code",
   "execution_count": 2,
   "id": "012d5380",
   "metadata": {},
   "outputs": [
    {
     "name": "stdout",
     "output_type": "stream",
     "text": [
      "9\n"
     ]
    }
   ],
   "source": [
    "print(len(lis))"
   ]
  },
  {
   "cell_type": "code",
   "execution_count": 3,
   "id": "d21ed5bc",
   "metadata": {},
   "outputs": [
    {
     "name": "stdout",
     "output_type": "stream",
     "text": [
      "<class 'list'>\n"
     ]
    }
   ],
   "source": [
    "print(type(lis))"
   ]
  },
  {
   "cell_type": "markdown",
   "id": "fb9e9e1a",
   "metadata": {},
   "source": [
    "# How to make a tuple to List"
   ]
  },
  {
   "cell_type": "code",
   "execution_count": 6,
   "id": "e2cfe005",
   "metadata": {},
   "outputs": [
    {
     "name": "stdout",
     "output_type": "stream",
     "text": [
      "<class 'tuple'>\n",
      "['apple', 'banana', 'cat'] <class 'list'>\n",
      "3\n"
     ]
    }
   ],
   "source": [
    "tu = (\"apple\",\"banana\",\"cat\")\n",
    "print(type(tu))\n",
    "li = list(tu) # This is it\n",
    "print(li,type(li))\n",
    "x = 3.15\n",
    "print(int(x))"
   ]
  },
  {
   "cell_type": "markdown",
   "id": "3446075e",
   "metadata": {},
   "source": [
    "# Accessing Elements from List"
   ]
  },
  {
   "cell_type": "code",
   "execution_count": 10,
   "id": "16dd82ca",
   "metadata": {},
   "outputs": [
    {
     "name": "stdout",
     "output_type": "stream",
     "text": [
      "apple\n",
      "banana\n",
      "apple\n",
      "banana\n",
      "cat\n",
      "dog\n",
      "elephant\n",
      "frog\n",
      "gasoline\n",
      "hike\n",
      "ice-cream\n"
     ]
    }
   ],
   "source": [
    "lis = [\"apple\",\"banana\",\"cat\",\"dog\",\"elephant\",\"frog\",\"gasoline\",\"hike\",\"ice-cream\"]\n",
    "# Access 0th index Element\n",
    "print(lis[0])\n",
    "# Access 1st index Element\n",
    "print(lis[1])\n",
    "# prinjt the whole list\n",
    "for i in range(len(lis)):\n",
    "    print(lis[i])"
   ]
  },
  {
   "cell_type": "code",
   "execution_count": 11,
   "id": "c3ad430b",
   "metadata": {},
   "outputs": [
    {
     "name": "stdout",
     "output_type": "stream",
     "text": [
      "ice-cream\n",
      "hike\n"
     ]
    }
   ],
   "source": [
    "# Access Elements through negative indexing\n",
    "print(lis[-1])\n",
    "print(lis[-2])"
   ]
  },
  {
   "cell_type": "markdown",
   "id": "938e3cf7",
   "metadata": {},
   "source": [
    "# Slicing in List"
   ]
  },
  {
   "cell_type": "code",
   "execution_count": 13,
   "id": "b6b9ccb5",
   "metadata": {},
   "outputs": [
    {
     "name": "stdout",
     "output_type": "stream",
     "text": [
      "['apple', 'banana']\n"
     ]
    }
   ],
   "source": [
    "lis = [\"apple\",\"banana\",\"cat\",\"dog\",\"elephant\",\"frog\",\"gasoline\",\"hike\",\"ice-cream\"]\n",
    "print(lis[0:2])"
   ]
  },
  {
   "cell_type": "code",
   "execution_count": 17,
   "id": "296810ee",
   "metadata": {},
   "outputs": [
    {
     "name": "stdout",
     "output_type": "stream",
     "text": [
      "['gasoline', 'hike']\n"
     ]
    }
   ],
   "source": [
    "print(lis[-3:-1])"
   ]
  },
  {
   "cell_type": "code",
   "execution_count": 18,
   "id": "99c57baf",
   "metadata": {},
   "outputs": [
    {
     "name": "stdout",
     "output_type": "stream",
     "text": [
      "['elephant', 'frog', 'gasoline', 'hike', 'ice-cream']\n"
     ]
    }
   ],
   "source": [
    "print(lis[-5:])"
   ]
  },
  {
   "cell_type": "code",
   "execution_count": 19,
   "id": "bff47211",
   "metadata": {},
   "outputs": [
    {
     "name": "stdout",
     "output_type": "stream",
     "text": [
      "['ice-cream', 'hike', 'gasoline', 'frog', 'elephant', 'dog', 'cat', 'banana', 'apple']\n"
     ]
    }
   ],
   "source": [
    "print(lis[::-1])"
   ]
  },
  {
   "cell_type": "code",
   "execution_count": 20,
   "id": "0c307a48",
   "metadata": {},
   "outputs": [
    {
     "name": "stdout",
     "output_type": "stream",
     "text": [
      "['banana', 'dog']\n"
     ]
    }
   ],
   "source": [
    "print(lis[1:4:2])"
   ]
  },
  {
   "cell_type": "code",
   "execution_count": 21,
   "id": "bf0e3641",
   "metadata": {},
   "outputs": [
    {
     "name": "stdout",
     "output_type": "stream",
     "text": [
      "['apple', 'banana', 'cat', 'dog', 'elephant', 'frog', 'gasoline', 'hike', 'ice-cream']\n"
     ]
    }
   ],
   "source": [
    "print(lis[::1])"
   ]
  },
  {
   "cell_type": "code",
   "execution_count": 22,
   "id": "fbfe609a",
   "metadata": {},
   "outputs": [
    {
     "name": "stdout",
     "output_type": "stream",
     "text": [
      "['ice-cream', 'gasoline', 'elephant', 'cat', 'apple']\n"
     ]
    }
   ],
   "source": [
    "print(lis[::-2])"
   ]
  },
  {
   "cell_type": "markdown",
   "id": "81154122",
   "metadata": {},
   "source": [
    "# Check if an Element Exist in List"
   ]
  },
  {
   "cell_type": "code",
   "execution_count": 27,
   "id": "225013b0",
   "metadata": {},
   "outputs": [],
   "source": [
    "lis = [\"apple\",\"banana\",\"cat\",\"dog\",\"elephant\",\"frog\",\"gasoline\",\"hike\",\"ice-cream\"]\n",
    "k = \"hike\""
   ]
  },
  {
   "cell_type": "code",
   "execution_count": 28,
   "id": "683bf0c8",
   "metadata": {},
   "outputs": [
    {
     "name": "stdout",
     "output_type": "stream",
     "text": [
      "hike Exists in this list\n"
     ]
    }
   ],
   "source": [
    "# Using for loop\n",
    "for element in lis:\n",
    "    if element==k:\n",
    "        print(k,\"Exists in this list\")\n",
    "        break"
   ]
  },
  {
   "cell_type": "code",
   "execution_count": 29,
   "id": "8af9b0f3",
   "metadata": {},
   "outputs": [
    {
     "name": "stdout",
     "output_type": "stream",
     "text": [
      "hike Exists\n"
     ]
    }
   ],
   "source": [
    "# Using in keyword\n",
    "if k in lis:\n",
    "    print(k,\"Exists\")"
   ]
  },
  {
   "cell_type": "markdown",
   "id": "294d1431",
   "metadata": {},
   "source": [
    "# Change Elements in a list"
   ]
  },
  {
   "cell_type": "code",
   "execution_count": 30,
   "id": "e6f77ca2",
   "metadata": {},
   "outputs": [
    {
     "name": "stdout",
     "output_type": "stream",
     "text": [
      "Original List:  ['apple', 'banana', 'cat', 'dog', 'elephant', 'frog', 'gasoline', 'hike', 'ice-cream']\n",
      "Updated List:  ['apple', 'ball', 'cat', 'dog', 'elephant', 'frog', 'gasoline', 'hike', 'ink']\n"
     ]
    }
   ],
   "source": [
    "lis = [\"apple\",\"banana\",\"cat\",\"dog\",\"elephant\",\"frog\",\"gasoline\",\"hike\",\"ice-cream\"]\n",
    "print(\"Original List: \",lis)\n",
    "lis[1] = \"ball\"\n",
    "lis[-1] = \"ink\"\n",
    "print(\"Updated List: \",lis)"
   ]
  },
  {
   "cell_type": "code",
   "execution_count": 33,
   "id": "f598d687",
   "metadata": {},
   "outputs": [
    {
     "name": "stdout",
     "output_type": "stream",
     "text": [
      "Original List:  ['apple', 'dog', 'dog', 'elephant', 'frog', 'gasoline', 'hike', 'ink']\n",
      "Updated List:  ['apple', 'basket', 'car', 'elephant', 'frog', 'gasoline', 'hike', 'ink']\n",
      "['apple', 'dog', 'dog', 'elephant', 'frog', 'gasoline', 'hike', 'ink']\n"
     ]
    }
   ],
   "source": [
    "print(\"Original List: \",lis)\n",
    "lis[1:3] = [\"basket\",\"car\"]\n",
    "print(\"Updated List: \",lis)\n",
    "lis[1:3] = [\"dog\",\"dog\"]\n",
    "print(lis)"
   ]
  },
  {
   "cell_type": "markdown",
   "id": "dc0ef084",
   "metadata": {},
   "source": [
    "# Add Elements in a List"
   ]
  },
  {
   "cell_type": "code",
   "execution_count": 38,
   "id": "55811fb5",
   "metadata": {},
   "outputs": [
    {
     "name": "stdout",
     "output_type": "stream",
     "text": [
      "['apple', 'banana', 'cat', 'dog', 'elephant', 'frog', 'gasoline', 'hike', 'ice-cream', 'june']\n"
     ]
    }
   ],
   "source": [
    "lis = [\"apple\",\"banana\",\"cat\",\"dog\",\"elephant\",\"frog\",\"gasoline\",\"hike\",\"ice-cream\"]\n",
    "lis.append(\"june\")\n",
    "print(lis)"
   ]
  },
  {
   "cell_type": "code",
   "execution_count": 39,
   "id": "2b1c5a7d",
   "metadata": {},
   "outputs": [
    {
     "name": "stdout",
     "output_type": "stream",
     "text": [
      "['apple', 'ball', 'banana', 'cat', 'dog', 'elephant', 'frog', 'gasoline', 'hike', 'ice-cream', 'june']\n"
     ]
    }
   ],
   "source": [
    "lis.insert(1,\"ball\")\n",
    "print(lis)"
   ]
  },
  {
   "cell_type": "code",
   "execution_count": 40,
   "id": "6d0fb040",
   "metadata": {},
   "outputs": [
    {
     "name": "stdout",
     "output_type": "stream",
     "text": [
      "['apple', 'ball', 'banana', 'cat', 'dog', 'elephant', 'frog', 'gasoline', 'hike', 'ice-cream', 'june', 'hi', 'hello']\n"
     ]
    }
   ],
   "source": [
    "li = [\"hi\",\"hello\"]\n",
    "lis = lis + li\n",
    "print(lis)"
   ]
  },
  {
   "cell_type": "markdown",
   "id": "7f60cd12",
   "metadata": {},
   "source": [
    "# Remove Elements from List"
   ]
  },
  {
   "cell_type": "code",
   "execution_count": 50,
   "id": "99303f35",
   "metadata": {},
   "outputs": [
    {
     "name": "stdout",
     "output_type": "stream",
     "text": [
      "['apple', 'banana', 'dog', 'cat', 'elephant', 'frog', 'gasoline', 'hike', 'ice-cream'] None\n"
     ]
    }
   ],
   "source": [
    "lis = [\"apple\",\"banana\",\"cat\",\"dog\",\"cat\",\"elephant\",\"frog\",\"gasoline\",\"hike\",\"ice-cream\"]\n",
    "x = lis.remove(\"cat\")\n",
    "print(lis,x)"
   ]
  },
  {
   "cell_type": "code",
   "execution_count": 53,
   "id": "e215f232",
   "metadata": {},
   "outputs": [
    {
     "name": "stdout",
     "output_type": "stream",
     "text": [
      "['banana', 'dog', 'cat', 'elephant', 'frog', 'gasoline'] hike\n"
     ]
    }
   ],
   "source": [
    "x = lis.pop(-1)\n",
    "print(lis,x)"
   ]
  },
  {
   "cell_type": "code",
   "execution_count": 54,
   "id": "027e56fa",
   "metadata": {},
   "outputs": [
    {
     "name": "stdout",
     "output_type": "stream",
     "text": [
      "['dog', 'cat', 'elephant', 'frog', 'gasoline']\n"
     ]
    }
   ],
   "source": [
    "del lis[0]\n",
    "print(lis)"
   ]
  },
  {
   "cell_type": "markdown",
   "id": "a39d6f9d",
   "metadata": {},
   "source": [
    "# Implement Stack Using List"
   ]
  },
  {
   "cell_type": "code",
   "execution_count": 64,
   "id": "00eff9f5",
   "metadata": {},
   "outputs": [
    {
     "name": "stdout",
     "output_type": "stream",
     "text": [
      "pushed in stack  [1, 2, 3]\n",
      "Popped from stack [1, 2]\n"
     ]
    }
   ],
   "source": [
    "x = []\n",
    "def spush(element,lis):\n",
    "    lis.append(element)\n",
    "    return lis\n",
    "def spop(lis):\n",
    "    lis.pop()\n",
    "    return lis\n",
    "spush(1,x)\n",
    "spush(2,x)\n",
    "spush(3,x)\n",
    "print(\"pushed in stack \",x)\n",
    "spop(x)\n",
    "print(\"Popped from stack\",x)"
   ]
  },
  {
   "cell_type": "markdown",
   "id": "7541936c",
   "metadata": {},
   "source": [
    "# Singly Linked List to add elements\n"
   ]
  },
  {
   "cell_type": "code",
   "execution_count": 84,
   "id": "2301ca75",
   "metadata": {},
   "outputs": [
    {
     "name": "stdout",
     "output_type": "stream",
     "text": [
      "[1, 2, 3]\n",
      "[0, 1, 2, 3]\n",
      "[0, 1, 2, 4, 3]\n",
      "[0, 1, 2, 4, 5, 3]\n",
      "[0, 1, 2, 4, 6, 5, 3]\n"
     ]
    }
   ],
   "source": [
    "x = []\n",
    "def lladdend(lis,element):\n",
    "    lis.append(element)\n",
    "    return lis\n",
    "def lladdstart(lis,element):\n",
    "    lis.insert(0,element)\n",
    "    return lis\n",
    "def lladdafterelemnt(lis,element,afterelement):\n",
    "    index = 0\n",
    "    for i in range(len(lis)):\n",
    "        if(lis[i]==afterelement):\n",
    "            index = i + 1\n",
    "            break\n",
    "    lis.insert(index,element)\n",
    "    return lis\n",
    "lladdend(x,1)\n",
    "lladdend(x,2)\n",
    "lladdend(x,3)\n",
    "print(x)\n",
    "lladdstart(x,0)\n",
    "print(x)\n",
    "lladdafterelemnt(x,4,2)\n",
    "print(x)\n",
    "lladdafterelemnt(x,5,4)\n",
    "print(x)\n",
    "lladdafterelemnt(x,6,4)\n",
    "print(x)"
   ]
  },
  {
   "cell_type": "markdown",
   "id": "58764036",
   "metadata": {},
   "source": [
    "# Reverse a List using For Loop"
   ]
  },
  {
   "cell_type": "code",
   "execution_count": 92,
   "id": "5f110395",
   "metadata": {},
   "outputs": [
    {
     "name": "stdout",
     "output_type": "stream",
     "text": [
      "['ice-cream', 'hike', 'gasoline', 'frog', 'elephant', 'cat', 'dog', 'cat', 'banana', 'apple']\n"
     ]
    }
   ],
   "source": [
    "lis = [\"apple\",\"banana\",\"cat\",\"dog\",\"cat\",\"elephant\",\"frog\",\"gasoline\",\"hike\",\"ice-cream\"]\n",
    "li = []\n",
    "for i in range(len(lis)-1,-1,-1):\n",
    "    li.append(lis[i])\n",
    "print(li)"
   ]
  },
  {
   "cell_type": "code",
   "execution_count": 93,
   "id": "b614c3e3",
   "metadata": {},
   "outputs": [
    {
     "name": "stdout",
     "output_type": "stream",
     "text": [
      "['ice-cream', 'hike', 'gasoline', 'frog', 'elephant', 'cat', 'dog', 'cat', 'banana', 'apple']\n"
     ]
    }
   ],
   "source": [
    "print(lis[::-1])"
   ]
  },
  {
   "cell_type": "markdown",
   "id": "fd592ec2",
   "metadata": {},
   "source": [
    "# Add at the Start"
   ]
  },
  {
   "cell_type": "code",
   "execution_count": 71,
   "id": "e4366708",
   "metadata": {},
   "outputs": [
    {
     "name": "stdout",
     "output_type": "stream",
     "text": [
      "['Soorya', 'Arpit', 'Bharat', 'Poonam', 'Pranav', 'Pavitharan', 'Tirth']\n",
      "['Sukant', 'Soorya', 'Arpit', 'Bharat', 'Poonam', 'Pranav', 'Pavitharan', 'Tirth']\n"
     ]
    }
   ],
   "source": [
    "lis = [\"Arpit\",\"Bharat\",\"Poonam\",\"Pranav\",\"Pavitharan\",\"Tirth\"]\n",
    "lis.insert(0,\"Soorya\")\n",
    "print(lis)\n",
    "lis.insert(0,\"Sukant\")\n",
    "print(lis)"
   ]
  },
  {
   "cell_type": "markdown",
   "id": "b02f6f1d",
   "metadata": {},
   "source": [
    "# Check for a Given Element in a List"
   ]
  },
  {
   "cell_type": "code",
   "execution_count": 79,
   "id": "c4584102",
   "metadata": {},
   "outputs": [
    {
     "name": "stdout",
     "output_type": "stream",
     "text": [
      "Poonam 4\n"
     ]
    }
   ],
   "source": [
    "k = \"Poonam\"\n",
    "for i in range(len(lis)):\n",
    "    if k==lis[i]:\n",
    "        print(k,i)\n",
    "        break"
   ]
  },
  {
   "cell_type": "markdown",
   "id": "bed5ee0b",
   "metadata": {},
   "source": [
    "a     g     m     s\n",
    "b   f h   l n   r t\n",
    "c e   i k   o q   u\n",
    "d     j     p"
   ]
  },
  {
   "cell_type": "markdown",
   "id": "3dfddb2d",
   "metadata": {},
   "source": [
    "a       i       q       y\n",
    "b     h j     p r     x z\n",
    "c   g   k   o   s   w\n",
    "d f     l n     t v\n",
    "e       m       u"
   ]
  },
  {
   "cell_type": "code",
   "execution_count": 18,
   "id": "202d567c",
   "metadata": {},
   "outputs": [
    {
     "name": "stdout",
     "output_type": "stream",
     "text": [
      "0\n",
      "4\n",
      "8\n"
     ]
    }
   ],
   "source": [
    "step = 2 * (3 - 1)\n",
    "for i in range(0,10,step):\n",
    "    print(i)"
   ]
  },
  {
   "cell_type": "code",
   "execution_count": 19,
   "id": "20f3b40a",
   "metadata": {},
   "outputs": [
    {
     "data": {
      "text/plain": [
       "14"
      ]
     },
     "execution_count": 19,
     "metadata": {},
     "output_type": "execute_result"
    }
   ],
   "source": [
    "len(\"PAYPALISHIRING\")"
   ]
  },
  {
   "cell_type": "code",
   "execution_count": 21,
   "id": "11e83dc1",
   "metadata": {},
   "outputs": [
    {
     "name": "stdout",
     "output_type": "stream",
     "text": [
      "P\n",
      "I\n",
      "N\n"
     ]
    }
   ],
   "source": [
    "s = \"PAYPALISHIRING\"\n",
    "for i in range(0,len(s),6):\n",
    "    print(s[i])"
   ]
  },
  {
   "cell_type": "code",
   "execution_count": null,
   "id": "73052daa",
   "metadata": {},
   "outputs": [],
   "source": []
  }
 ],
 "metadata": {
  "kernelspec": {
   "display_name": "Python 3 (ipykernel)",
   "language": "python",
   "name": "python3"
  },
  "language_info": {
   "codemirror_mode": {
    "name": "ipython",
    "version": 3
   },
   "file_extension": ".py",
   "mimetype": "text/x-python",
   "name": "python",
   "nbconvert_exporter": "python",
   "pygments_lexer": "ipython3",
   "version": "3.11.5"
  }
 },
 "nbformat": 4,
 "nbformat_minor": 5
}
