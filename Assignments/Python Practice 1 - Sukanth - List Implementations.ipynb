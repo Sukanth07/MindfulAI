{
 "cells": [
  {
   "cell_type": "markdown",
   "id": "2a86617a",
   "metadata": {},
   "source": [
    "## 1. Stack Using List"
   ]
  },
  {
   "cell_type": "code",
   "execution_count": 105,
   "id": "41e4b729",
   "metadata": {},
   "outputs": [],
   "source": [
    "def push_(l,n):\n",
    "    if len(l)<stack_len:\n",
    "        l.append(n)\n",
    "        print(l)\n",
    "    else:\n",
    "        print(\"Stack Overflow\")\n",
    "    \n",
    "def pop_(l):\n",
    "    if len(l)==0:\n",
    "        print(\"Stack Underflow\")\n",
    "    else:\n",
    "        l.pop()\n",
    "        print(l)\n",
    "    \n",
    "l = list()\n",
    "stack_len = 3"
   ]
  },
  {
   "cell_type": "code",
   "execution_count": 106,
   "id": "54da6621",
   "metadata": {},
   "outputs": [
    {
     "name": "stdout",
     "output_type": "stream",
     "text": [
      "Push:\n",
      "[1]\n",
      "[1, 2]\n",
      "[1, 2, 3]\n",
      "Stack Overflow\n"
     ]
    }
   ],
   "source": [
    "#Push 3 elements\n",
    "print(\"Push:\")\n",
    "push_(l,1)\n",
    "push_(l,2)\n",
    "push_(l,3)\n",
    "push_(l,4)"
   ]
  },
  {
   "cell_type": "code",
   "execution_count": 107,
   "id": "3409a1ae",
   "metadata": {},
   "outputs": [
    {
     "name": "stdout",
     "output_type": "stream",
     "text": [
      "Pop\n",
      "[1, 2]\n",
      "[1]\n",
      "[]\n",
      "Stack Underflow\n"
     ]
    }
   ],
   "source": [
    "#Pop\n",
    "print(\"Pop\")\n",
    "pop_(l)\n",
    "pop_(l)\n",
    "pop_(l)\n",
    "pop_(l)"
   ]
  },
  {
   "cell_type": "markdown",
   "id": "5a43fe53",
   "metadata": {},
   "source": [
    "# 2. Singly Linked List"
   ]
  },
  {
   "cell_type": "code",
   "execution_count": 108,
   "id": "51fb04d5",
   "metadata": {},
   "outputs": [],
   "source": [
    "def insertBeg(l,n):\n",
    "    l.insert(0,n)\n",
    "    print(l)\n",
    "\n",
    "def insertEnd(l,n):\n",
    "    l.append(n)\n",
    "    print(l)\n",
    "def insertAfterElement(l,after,n):\n",
    "    for i in range(len(l)):\n",
    "        if l[i]==after:\n",
    "            l.insert(i+1,n)\n",
    "    print(l)"
   ]
  },
  {
   "cell_type": "code",
   "execution_count": 109,
   "id": "48d7e142",
   "metadata": {},
   "outputs": [],
   "source": [
    "l = list()"
   ]
  },
  {
   "cell_type": "code",
   "execution_count": 110,
   "id": "b6ee29a5",
   "metadata": {},
   "outputs": [
    {
     "name": "stdout",
     "output_type": "stream",
     "text": [
      "[4]\n",
      "[3, 4]\n",
      "[2, 3, 4]\n"
     ]
    }
   ],
   "source": [
    "#insert at Beginning\n",
    "insertBeg(l,4)\n",
    "insertBeg(l,3)\n",
    "insertBeg(l,2)"
   ]
  },
  {
   "cell_type": "code",
   "execution_count": 111,
   "id": "388a20c8",
   "metadata": {},
   "outputs": [
    {
     "name": "stdout",
     "output_type": "stream",
     "text": [
      "[2, 3, 4, 9]\n",
      "[2, 3, 4, 9, 10]\n",
      "[2, 3, 4, 9, 10, 11]\n"
     ]
    }
   ],
   "source": [
    "#insert at End\n",
    "insertEnd(l,9)\n",
    "insertEnd(l,10)\n",
    "insertEnd(l,11)"
   ]
  },
  {
   "cell_type": "code",
   "execution_count": 112,
   "id": "5f06d934",
   "metadata": {},
   "outputs": [
    {
     "name": "stdout",
     "output_type": "stream",
     "text": [
      "[2, 3, 4, 5, 9, 10, 11]\n",
      "[2, 3, 4, 5, 6, 9, 10, 11]\n"
     ]
    }
   ],
   "source": [
    "#insert After Element\n",
    "insertAfterElement(l,4,5)\n",
    "insertAfterElement(l,5,6)"
   ]
  },
  {
   "cell_type": "markdown",
   "id": "c71cd667",
   "metadata": {},
   "source": [
    "# 3. Enque and Deque "
   ]
  },
  {
   "cell_type": "code",
   "execution_count": 113,
   "id": "91d48d82",
   "metadata": {},
   "outputs": [],
   "source": [
    "from collections import deque"
   ]
  },
  {
   "cell_type": "code",
   "execution_count": 114,
   "id": "41ffb67d",
   "metadata": {},
   "outputs": [],
   "source": [
    "def enque_(l,n):\n",
    "    l.append(n)\n",
    "    print(l)\n",
    "\n",
    "def deque_(l):\n",
    "    if len(l)==0:\n",
    "        print(\"Queue Underflow\")\n",
    "    else:     \n",
    "        l.popleft()\n",
    "        print(l)"
   ]
  },
  {
   "cell_type": "code",
   "execution_count": 115,
   "id": "12a08de9",
   "metadata": {},
   "outputs": [],
   "source": [
    "queue = deque()"
   ]
  },
  {
   "cell_type": "code",
   "execution_count": 116,
   "id": "d71587f9",
   "metadata": {},
   "outputs": [
    {
     "name": "stdout",
     "output_type": "stream",
     "text": [
      "deque([1])\n",
      "deque([1, 2])\n",
      "deque([1, 2, 3])\n",
      "deque([1, 2, 3, 4])\n"
     ]
    }
   ],
   "source": [
    "#Enque  --> add element in end\n",
    "enque_(queue,1)\n",
    "enque_(queue,2)\n",
    "enque_(queue,3)\n",
    "enque_(queue,4)"
   ]
  },
  {
   "cell_type": "code",
   "execution_count": 117,
   "id": "f1aec1f5",
   "metadata": {},
   "outputs": [
    {
     "name": "stdout",
     "output_type": "stream",
     "text": [
      "deque([2, 3, 4])\n",
      "deque([3, 4])\n",
      "deque([4])\n",
      "deque([])\n",
      "Queue Underflow\n"
     ]
    }
   ],
   "source": [
    "#Deque --> pop element in beginning\n",
    "deque_(queue)\n",
    "deque_(queue)\n",
    "deque_(queue)\n",
    "deque_(queue)\n",
    "deque_(queue)"
   ]
  },
  {
   "cell_type": "markdown",
   "id": "cc3db52d",
   "metadata": {},
   "source": [
    "# 4. Reverse List"
   ]
  },
  {
   "cell_type": "code",
   "execution_count": 141,
   "id": "b0c60719",
   "metadata": {},
   "outputs": [],
   "source": [
    "def iterative_rev(lis):\n",
    "    l1 = []\n",
    "    for i in range(len(lis)-1,-1,-1):\n",
    "        l1.append(lis[i])\n",
    "    return l1\n",
    "\n",
    "\n",
    "\n",
    "def recursive_rev(lis, l, r):\n",
    "    if l >= r:\n",
    "        return lis\n",
    "    \n",
    "    temp = lis[l]\n",
    "    lis[l] = lis[r]\n",
    "    lis[r] = temp\n",
    "    \n",
    "    return recursive_rev(lis, l+1, r-1)"
   ]
  },
  {
   "cell_type": "code",
   "execution_count": 142,
   "id": "c0243835",
   "metadata": {},
   "outputs": [],
   "source": [
    "lis = [1,2,3,4,5]"
   ]
  },
  {
   "cell_type": "code",
   "execution_count": 143,
   "id": "5d2db366",
   "metadata": {},
   "outputs": [
    {
     "data": {
      "text/plain": [
       "[5, 4, 3, 2, 1]"
      ]
     },
     "execution_count": 143,
     "metadata": {},
     "output_type": "execute_result"
    }
   ],
   "source": [
    "iterative_rev(lis)"
   ]
  },
  {
   "cell_type": "code",
   "execution_count": 144,
   "id": "36dc1063",
   "metadata": {},
   "outputs": [
    {
     "data": {
      "text/plain": [
       "[5, 4, 3, 2, 1]"
      ]
     },
     "execution_count": 144,
     "metadata": {},
     "output_type": "execute_result"
    }
   ],
   "source": [
    "left = 0\n",
    "right = len(lis)-1\n",
    "recursive_rev(lis, left, right)"
   ]
  },
  {
   "cell_type": "markdown",
   "id": "2e2f28e0",
   "metadata": {},
   "source": [
    "# 5. Merge Sorted Lists"
   ]
  },
  {
   "cell_type": "code",
   "execution_count": 157,
   "id": "1f87e868",
   "metadata": {},
   "outputs": [],
   "source": [
    "def sortList(l1,l2):\n",
    "    l1 = sorted(l1)\n",
    "    l2 = sorted(l2)\n",
    "    return l1,l2\n",
    "\n",
    "\n",
    "def mergeList(l1,l2):\n",
    "    l1 = list(set(l1))\n",
    "    l2 = list(set(l2))\n",
    "    l1, l2 = sortList(l1,l2)\n",
    "    \n",
    "    merge = l1+l2\n",
    "    merge = list(set(merge))\n",
    "    merge = sorted(merge)\n",
    "    return merge\n",
    "    "
   ]
  },
  {
   "cell_type": "code",
   "execution_count": 158,
   "id": "0fcc9404",
   "metadata": {},
   "outputs": [
    {
     "data": {
      "text/plain": [
       "[1, 2, 4, 5, 6, 10]"
      ]
     },
     "execution_count": 158,
     "metadata": {},
     "output_type": "execute_result"
    }
   ],
   "source": [
    "l1 = [1,10,5]\n",
    "l2 = [2,4,6]\n",
    "\n",
    "mergeList(l1,l2)"
   ]
  },
  {
   "cell_type": "code",
   "execution_count": null,
   "id": "54a93dce",
   "metadata": {},
   "outputs": [],
   "source": []
  }
 ],
 "metadata": {
  "kernelspec": {
   "display_name": "Python 3 (ipykernel)",
   "language": "python",
   "name": "python3"
  },
  "language_info": {
   "codemirror_mode": {
    "name": "ipython",
    "version": 3
   },
   "file_extension": ".py",
   "mimetype": "text/x-python",
   "name": "python",
   "nbconvert_exporter": "python",
   "pygments_lexer": "ipython3",
   "version": "3.11.5"
  }
 },
 "nbformat": 4,
 "nbformat_minor": 5
}
